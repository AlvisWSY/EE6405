{
 "cells": [
  {
   "cell_type": "markdown",
   "id": "017582a1",
   "metadata": {},
   "source": [
    "## Importing Libraries"
   ]
  },
  {
   "cell_type": "code",
   "execution_count": 1,
   "id": "1b6b2287",
   "metadata": {},
   "outputs": [],
   "source": [
    "from sklearn.feature_extraction.text import TfidfVectorizer,CountVectorizer\n",
    "import pandas as pd\n",
    "import re\n",
    "from keras.preprocessing.text import text_to_word_sequence\n",
    "import nltk\n",
    "from nltk.corpus import stopwords \n",
    "from nltk.tokenize import word_tokenize \n",
    "from sklearn.feature_extraction.text import TfidfVectorizer\n",
    "from sklearn.model_selection import cross_validate\n",
    "from sklearn.svm import SVC\n",
    "from sklearn.metrics import accuracy_score\n",
    "import numpy as np\n"
   ]
  },
  {
   "cell_type": "markdown",
   "id": "4edf87cf",
   "metadata": {},
   "source": [
    "## Reading the dataset"
   ]
  },
  {
   "cell_type": "code",
   "execution_count": 2,
   "id": "3a5287ed",
   "metadata": {},
   "outputs": [],
   "source": [
    "imdb_df = pd.read_csv(r\"C:\\Users\\liuru\\Desktop\\EE6405\\Data\\IMDB\\IMDB Dataset.csv\")"
   ]
  },
  {
   "cell_type": "code",
   "execution_count": 3,
   "id": "a14561b1",
   "metadata": {},
   "outputs": [],
   "source": [
    "df_positive = imdb_df[imdb_df['sentiment']=='positive'][:5000]\n",
    "df_negative = imdb_df[imdb_df['sentiment']=='negative'][:5000]\n",
    "imdb = pd.concat([df_positive,df_negative ])"
   ]
  },
  {
   "cell_type": "code",
   "execution_count": 4,
   "id": "01ec19b2",
   "metadata": {},
   "outputs": [
    {
     "data": {
      "text/plain": [
       "(10000, 2)"
      ]
     },
     "execution_count": 4,
     "metadata": {},
     "output_type": "execute_result"
    }
   ],
   "source": [
    "imdb.shape"
   ]
  },
  {
   "cell_type": "markdown",
   "id": "9dd6d95c",
   "metadata": {},
   "source": [
    "## Preprocessing"
   ]
  },
  {
   "cell_type": "markdown",
   "id": "0bd0f50c",
   "metadata": {},
   "source": [
    "Data before preprocessing"
   ]
  },
  {
   "cell_type": "code",
   "execution_count": 5,
   "id": "c05e4f13",
   "metadata": {},
   "outputs": [
    {
     "name": "stdout",
     "output_type": "stream",
     "text": [
      "Basically there's a family where a little boy (Jake) thinks there's a zombie in his closet & his parents are fighting all the time.<br /><br />This movie is slower than a soap opera... and suddenly, Jake decides to become Rambo and kill the zombie.<br /><br />OK, first of all when you're going to make a film you must Decide if its a thriller or a drama! As a drama the movie is watchable. Parents are divorcing & arguing like in real life. And then we have Jake with his closet which totally ruins all the film! I expected to see a BOOGEYMAN similar movie, and instead i watched a drama with some meaningless thriller spots.<br /><br />3 out of 10 just for the well playing parents & descent dialogs. As for the shots with Jake: just ignore them.\n"
     ]
    }
   ],
   "source": [
    "print(imdb['review'][3])"
   ]
  },
  {
   "cell_type": "markdown",
   "id": "3aa8a49a",
   "metadata": {},
   "source": [
    "Preprocessing with regex to remove punctuation and special chars, lowercase"
   ]
  },
  {
   "cell_type": "code",
   "execution_count": 6,
   "id": "b9c7e305",
   "metadata": {},
   "outputs": [],
   "source": [
    "# remove \"(<.*?>)\" markup\n",
    "imdb['review'] = imdb['review'].apply(lambda x: re.sub('(<.*?>)', ' ', x))\n",
    "# remove punctuation marks \n",
    "imdb['review'] = imdb['review'].apply(lambda x: re.sub('[,\\.!?:()\"]', '', x))\n",
    "# remove whitespace\n",
    "imdb['review'] = imdb['review'].apply(lambda x: x.strip())\n",
    "# remove all strings that contain a non-letter\n",
    "imdb['review'] = imdb['review'].apply(lambda x: re.sub('[^a-zA-Z\"]',' ',x))\n",
    "# convert to lower\n",
    "imdb['review'] = imdb['review'].apply(lambda x: x.lower())"
   ]
  },
  {
   "cell_type": "markdown",
   "id": "25a3cd1f",
   "metadata": {},
   "source": [
    "POS Tagging + Lemmatizer"
   ]
  },
  {
   "cell_type": "code",
   "execution_count": 7,
   "id": "b358e858",
   "metadata": {},
   "outputs": [
    {
     "name": "stderr",
     "output_type": "stream",
     "text": [
      "[nltk_data] Downloading package wordnet to\n",
      "[nltk_data]     C:\\Users\\liuru\\AppData\\Roaming\\nltk_data...\n",
      "[nltk_data]   Package wordnet is already up-to-date!\n",
      "[nltk_data] Downloading package averaged_perceptron_tagger to\n",
      "[nltk_data]     C:\\Users\\liuru\\AppData\\Roaming\\nltk_data...\n",
      "[nltk_data]   Package averaged_perceptron_tagger is already up-to-\n",
      "[nltk_data]       date!\n"
     ]
    }
   ],
   "source": [
    "nltk.download('wordnet')\n",
    "from nltk.stem import WordNetLemmatizer\n",
    "from nltk.tokenize import word_tokenize\n",
    "nltk.download('averaged_perceptron_tagger')\n",
    "lemmatizer= WordNetLemmatizer()\n",
    "from nltk.corpus import wordnet"
   ]
  },
  {
   "cell_type": "code",
   "execution_count": 8,
   "id": "9a1e81b3",
   "metadata": {},
   "outputs": [],
   "source": [
    "def pos_tagger(nltk_tag):\n",
    "    if nltk_tag.startswith('J'):\n",
    "        return wordnet.ADJ\n",
    "    elif nltk_tag.startswith('V'):\n",
    "        return wordnet.VERB\n",
    "    elif nltk_tag.startswith('N'):\n",
    "        return wordnet.NOUN\n",
    "    elif nltk_tag.startswith('R'):\n",
    "        return wordnet.ADV\n",
    "    else:         \n",
    "        return None"
   ]
  },
  {
   "cell_type": "code",
   "execution_count": 9,
   "id": "c22ff44d",
   "metadata": {},
   "outputs": [],
   "source": [
    "def tagged_lemma(string):\n",
    "    \n",
    "    pos_tagged = nltk.pos_tag(nltk.word_tokenize(string))\n",
    "\n",
    "    wordnet_tagged = list(map(lambda x: (x[0], pos_tagger(x[1])), pos_tagged))\n",
    "\n",
    "    lemmatized_sentence = []\n",
    "\n",
    "    for word, tag in wordnet_tagged:\n",
    "        if tag is None:\n",
    "            lemmatized_sentence.append(word)\n",
    "        else:       \n",
    "            lemmatized_sentence.append(lemmatizer.lemmatize(word, tag))\n",
    "    lemmatized_sentence = \" \".join(lemmatized_sentence)\n",
    "    return lemmatized_sentence"
   ]
  },
  {
   "cell_type": "code",
   "execution_count": 10,
   "id": "90d85643",
   "metadata": {},
   "outputs": [],
   "source": [
    "imdb['review']=imdb['review'].apply(tagged_lemma)"
   ]
  },
  {
   "cell_type": "code",
   "execution_count": 11,
   "id": "4b6cbe40",
   "metadata": {},
   "outputs": [
    {
     "name": "stdout",
     "output_type": "stream",
     "text": [
      "basically there s a family where a little boy jake think there s a zombie in his closet his parent be fight all the time this movie be slow than a soap opera and suddenly jake decides to become rambo and kill the zombie ok first of all when you re go to make a film you must decide if its a thriller or a drama as a drama the movie be watchable parent be divorce argue like in real life and then we have jake with his closet which totally ruin all the film i expect to see a boogeyman similar movie and instead i watch a drama with some meaningless thriller spot out of just for the well play parent descent dialog as for the shot with jake just ignore them\n"
     ]
    }
   ],
   "source": [
    "print(imdb['review'][3])"
   ]
  },
  {
   "cell_type": "markdown",
   "id": "2908ad21",
   "metadata": {},
   "source": [
    "Remove Stop Words"
   ]
  },
  {
   "cell_type": "code",
   "execution_count": 12,
   "id": "b5d63290",
   "metadata": {},
   "outputs": [],
   "source": [
    "words = imdb['review'].apply(lambda x: text_to_word_sequence(x))\n",
    "stop_words = set(stopwords.words('english'))\n",
    "filtered_words = words.apply(lambda x: [w for w in x if not w in stop_words])\n",
    "imdb['review'] = filtered_words.apply(lambda x: \" \".join(x))"
   ]
  },
  {
   "cell_type": "code",
   "execution_count": 13,
   "id": "611227d4",
   "metadata": {},
   "outputs": [
    {
     "data": {
      "text/plain": [
       "'basically family little boy jake think zombie closet parent fight time movie slow soap opera suddenly jake decides become rambo kill zombie ok first go make film must decide thriller drama drama movie watchable parent divorce argue like real life jake closet totally ruin film expect see boogeyman similar movie instead watch drama meaningless thriller spot well play parent descent dialog shot jake ignore'"
      ]
     },
     "execution_count": 13,
     "metadata": {},
     "output_type": "execute_result"
    }
   ],
   "source": [
    "imdb['review'][3]"
   ]
  },
  {
   "cell_type": "code",
   "execution_count": 14,
   "id": "2f0a4629",
   "metadata": {},
   "outputs": [],
   "source": [
    "imdb.sentiment = imdb.sentiment.apply(lambda x: 1 if x=='positive' else 0)"
   ]
  },
  {
   "cell_type": "code",
   "execution_count": 15,
   "id": "c28f2fcd",
   "metadata": {},
   "outputs": [],
   "source": [
    "from sklearn.model_selection import train_test_split\n",
    "train_review, test_review, train_sent, test_sent = train_test_split(imdb['review'], imdb['sentiment'], test_size=0.25, random_state=42)"
   ]
  },
  {
   "cell_type": "code",
   "execution_count": 16,
   "id": "d008077c",
   "metadata": {},
   "outputs": [
    {
     "name": "stdout",
     "output_type": "stream",
     "text": [
      "<bound method NDFrame.head of 9758    brother psychokinetic power yes really duel de...\n",
      "8709    goodnight mister tom beautifully film beautifu...\n",
      "3411    ok hell suppose mean halloween let call ok wit...\n",
      "9644    honestly know legal illegal substance writer w...\n",
      "2171    rent movie think go see horror movie however l...\n",
      "                              ...                        \n",
      "1501    yes bad act one thing mention bad scriptnot ba...\n",
      "358     movie feature charlie spradling dancing strip ...\n",
      "761     think summary say mtv ish answer classic candi...\n",
      "1685    unbelievable fourth well second third third aw...\n",
      "4497    long go movie understanding go contain histori...\n",
      "Name: review, Length: 7500, dtype: object>\n"
     ]
    }
   ],
   "source": [
    "print(train_review.head)"
   ]
  },
  {
   "cell_type": "code",
   "execution_count": 17,
   "id": "1dcb3346",
   "metadata": {},
   "outputs": [
    {
     "name": "stdout",
     "output_type": "stream",
     "text": [
      "Tfidf_train: (7500, 42076)\n",
      "Tfidf_test: (2500, 42076)\n"
     ]
    }
   ],
   "source": [
    "#Tfidf vectorizer\n",
    "tv=TfidfVectorizer(stop_words='english')\n",
    "#transformed train reviews\n",
    "train_review_tfidf=np.asarray(tv.fit_transform(train_review).todense())\n",
    "#transformed test reviews\n",
    "test_review_tfidf=np.asarray(tv.transform(test_review).todense())\n",
    "print('Tfidf_train:',train_review_tfidf.shape)\n",
    "print('Tfidf_test:',test_review_tfidf.shape)"
   ]
  },
  {
   "cell_type": "code",
   "execution_count": 18,
   "id": "399c2908",
   "metadata": {},
   "outputs": [
    {
     "name": "stdout",
     "output_type": "stream",
     "text": [
      "(42076,)\n"
     ]
    }
   ],
   "source": [
    "print(train_review_tfidf[3].shape)"
   ]
  },
  {
   "cell_type": "markdown",
   "id": "be4a7b49",
   "metadata": {},
   "source": [
    "## Classifiers"
   ]
  },
  {
   "cell_type": "code",
   "execution_count": 19,
   "id": "5cb8cf02",
   "metadata": {},
   "outputs": [],
   "source": [
    "from sklearn.metrics import accuracy_score, f1_score, confusion_matrix\n",
    "import seaborn as sns\n",
    "#generates a confusion matrix between hand labelled data and model predictions\n",
    "def getConfMatrix(pred_data, actual):\n",
    "    conf_mat = confusion_matrix(actual, pred_data, labels=[0,1]) \n",
    "    micro = f1_score(actual, pred_data, average='micro') \n",
    "    macro = f1_score(actual,pred_data, average='macro')\n",
    "    sns.heatmap(conf_mat, annot = True, fmt=\".0f\", annot_kws={\"size\": 18})\n",
    "    print('F1 Micro: '+ str(micro))\n",
    "    print('F1 Macro: '+ str(macro))"
   ]
  },
  {
   "cell_type": "markdown",
   "id": "2a5b62ce",
   "metadata": {},
   "source": [
    "Support Vector Machines"
   ]
  },
  {
   "cell_type": "code",
   "execution_count": 20,
   "id": "d8106952",
   "metadata": {},
   "outputs": [],
   "source": [
    "from sklearn import svm\n",
    "\n",
    "#Create a svm Classifier\n",
    "clf = svm.SVC(kernel='rbf') # RBF kernel\n",
    "\n",
    "#Train the model using the training sets\n",
    "clf.fit(train_review_tfidf, train_sent)\n",
    "\n",
    "#Predict the response for test dataset\n",
    "y_pred = clf.predict(test_review_tfidf)"
   ]
  },
  {
   "cell_type": "code",
   "execution_count": 21,
   "id": "d735dafe",
   "metadata": {},
   "outputs": [
    {
     "name": "stdout",
     "output_type": "stream",
     "text": [
      "F1 Micro: 0.872\n",
      "F1 Macro: 0.8718995692623017\n"
     ]
    },
    {
     "data": {
      "image/png": "[encoded data removed]",
      "text/plain": [
       "<Figure size 640x480 with 2 Axes>"
      ]
     },
     "metadata": {},
     "output_type": "display_data"
    }
   ],
   "source": [
    "getConfMatrix(y_pred,test_sent)"
   ]
  },
  {
   "cell_type": "markdown",
   "id": "5fb5ff88",
   "metadata": {},
   "source": [
    "Extreme Learning Machines"
   ]
  },
  {
   "cell_type": "code",
   "execution_count": 22,
   "id": "770be28c",
   "metadata": {},
   "outputs": [],
   "source": [
    "from skelm import ELMClassifier\n",
    "clf = ELMClassifier()\n",
    "#Train the model using the training sets\n",
    "clf.fit(train_review_tfidf, train_sent)\n",
    "\n",
    "#Predict the response for test dataset\n",
    "y_pred = clf.predict(test_review_tfidf)\n"
   ]
  },
  {
   "cell_type": "code",
   "execution_count": 23,
   "id": "5ab641cc",
   "metadata": {},
   "outputs": [
    {
     "name": "stdout",
     "output_type": "stream",
     "text": [
      "F1 Micro: 0.766\n",
      "F1 Macro: 0.7659487334105661\n"
     ]
    },
    {
     "data": {
      "image/png": "[encoded data removed]",
      "text/plain": [
       "<Figure size 640x480 with 2 Axes>"
      ]
     },
     "metadata": {},
     "output_type": "display_data"
    }
   ],
   "source": [
    "getConfMatrix(y_pred,test_sent)"
   ]
  },
  {
   "cell_type": "markdown",
   "id": "1147fae9",
   "metadata": {},
   "source": [
    "Gaussian Process"
   ]
  },
  {
   "cell_type": "code",
   "execution_count": 24,
   "id": "f1a1940e",
   "metadata": {},
   "outputs": [],
   "source": [
    "from sklearn.gaussian_process import GaussianProcessClassifier\n",
    "from sklearn.gaussian_process.kernels import RBF\n",
    "kernel = 1.0 * RBF(1.0)\n",
    "clf = GaussianProcessClassifier(kernel=kernel, random_state=0)\n",
    "#Train the model using the training sets\n",
    "clf.fit(train_review_tfidf, train_sent)\n",
    "\n",
    "#Predict the response for test dataset\n",
    "y_pred = clf.predict(test_review_tfidf)\n"
   ]
  },
  {
   "cell_type": "code",
   "execution_count": 25,
   "id": "2fdc1661",
   "metadata": {
    "scrolled": true
   },
   "outputs": [
    {
     "name": "stdout",
     "output_type": "stream",
     "text": [
      "F1 Micro: 0.8708\n",
      "F1 Macro: 0.8707716938318169\n"
     ]
    },
    {
     "data": {
      "image/png": "[encoded data removed]",
      "text/plain": [
       "<Figure size 640x480 with 2 Axes>"
      ]
     },
     "metadata": {},
     "output_type": "display_data"
    }
   ],
   "source": [
    "getConfMatrix(y_pred,test_sent)"
   ]
  },
  {
   "cell_type": "markdown",
   "id": "4cca3433",
   "metadata": {},
   "source": [
    "KMeans Clustering"
   ]
  },
  {
   "cell_type": "code",
   "execution_count": 33,
   "id": "c918c9a7",
   "metadata": {},
   "outputs": [
    {
     "name": "stdout",
     "output_type": "stream",
     "text": [
      "Number of elements assigned to each cluster: [5542 1958]\n",
      "Number of elements assigned to each cluster: [2079 5421]\n",
      "Number of elements assigned to each cluster: [2081 5419]\n",
      "Number of elements assigned to each cluster: [5433 2067]\n",
      "Number of elements assigned to each cluster: [2069 5431]\n",
      "\n"
     ]
    }
   ],
   "source": [
    "from sklearn.cluster import KMeans\n",
    "for seed in range(5):\n",
    "    kmeans = KMeans(\n",
    "        n_clusters=2,\n",
    "        max_iter=100,\n",
    "        n_init=1,\n",
    "        random_state=seed,\n",
    "    ).fit(train_review_tfidf)\n",
    "    cluster_ids, cluster_sizes = np.unique(kmeans.labels_, return_counts=True)\n",
    "    print(f\"Number of elements assigned to each cluster: {cluster_sizes}\")\n",
    "print()\n"
   ]
  },
  {
   "cell_type": "code",
   "execution_count": 31,
   "id": "c8783f03",
   "metadata": {},
   "outputs": [
    {
     "name": "stdout",
     "output_type": "stream",
     "text": [
      "Cluster 0: movie bad good like watch make think really time film \n",
      "Cluster 1: film movie make like good time story character watch great \n"
     ]
    }
   ],
   "source": [
    "original_space_centroids = kmeans.cluster_centers_\n",
    "order_centroids = original_space_centroids.argsort()[:, ::-1]\n",
    "terms = tv.get_feature_names_out()\n",
    "\n",
    "for i in range(2):\n",
    "    print(f\"Cluster {i}: \", end=\"\")\n",
    "    for ind in order_centroids[i, :10]:\n",
    "        print(f\"{terms[ind]} \", end=\"\")\n",
    "    print()"
   ]
  },
  {
   "cell_type": "code",
   "execution_count": 38,
   "id": "bc3f9993",
   "metadata": {},
   "outputs": [
    {
     "name": "stdout",
     "output_type": "stream",
     "text": [
      "Explained variance of the SVD step: 11.4%\n"
     ]
    }
   ],
   "source": [
    "from sklearn.decomposition import TruncatedSVD\n",
    "from sklearn.pipeline import make_pipeline\n",
    "from sklearn.preprocessing import Normalizer\n",
    "\n",
    "lsa = make_pipeline(TruncatedSVD(n_components=100), Normalizer(copy=False))\n",
    "train_review_lsa = lsa.fit_transform(train_review_tfidf)\n",
    "explained_variance = lsa[0].explained_variance_ratio_.sum()\n",
    "print(f\"Explained variance of the SVD step: {explained_variance * 100:.1f}%\")"
   ]
  },
  {
   "cell_type": "code",
   "execution_count": 43,
   "id": "9677550f",
   "metadata": {},
   "outputs": [],
   "source": [
    "kmeans = KMeans(\n",
    "    n_clusters=2,\n",
    "    max_iter=100,\n",
    "    n_init=5,\n",
    "    random_state=seed,\n",
    ").fit(train_review_lsa)"
   ]
  },
  {
   "cell_type": "code",
   "execution_count": 44,
   "id": "d160897c",
   "metadata": {},
   "outputs": [
    {
     "name": "stdout",
     "output_type": "stream",
     "text": [
      "Cluster 0: movie bad good like watch make think time really film \n",
      "Cluster 1: film make like good time story character movie great watch \n"
     ]
    }
   ],
   "source": [
    "original_space_centroids = lsa[0].inverse_transform(kmeans.cluster_centers_)\n",
    "order_centroids = original_space_centroids.argsort()[:, ::-1]\n",
    "terms = tv.get_feature_names_out()\n",
    "\n",
    "for i in range(2):\n",
    "    print(f\"Cluster {i}: \", end=\"\")\n",
    "    for ind in order_centroids[i, :10]:\n",
    "        print(f\"{terms[ind]} \", end=\"\")\n",
    "    print()"
   ]
  },
  {
   "cell_type": "code",
   "execution_count": null,
   "id": "a89771cf",
   "metadata": {},
   "outputs": [],
   "source": []
  }
 ],
 "metadata": {
  "kernelspec": {
   "display_name": "tensforflow_base",
   "language": "python",
   "name": "tensforflow_base"
  },
  "language_info": {
   "codemirror_mode": {
    "name": "ipython",
    "version": 3
   },
   "file_extension": ".py",
   "mimetype": "text/x-python",
   "name": "python",
   "nbconvert_exporter": "python",
   "pygments_lexer": "ipython3",
   "version": "3.10.11"
  }
 },
 "nbformat": 4,
 "nbformat_minor": 5
}
