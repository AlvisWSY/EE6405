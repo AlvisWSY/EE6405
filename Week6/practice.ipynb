{
 "cells": [
  {
   "cell_type": "code",
   "execution_count": 6,
   "metadata": {},
   "outputs": [
    {
     "name": "stderr",
     "output_type": "stream",
     "text": [
      "[nltk_data] Downloading package punkt to /Users/pineapple/nltk_data...\n",
      "[nltk_data]   Package punkt is already up-to-date!\n",
      "[nltk_data] Downloading package stopwords to\n",
      "[nltk_data]     /Users/pineapple/nltk_data...\n",
      "[nltk_data]   Package stopwords is already up-to-date!\n"
     ]
    },
    {
     "data": {
      "text/plain": [
       "True"
      ]
     },
     "execution_count": 6,
     "metadata": {},
     "output_type": "execute_result"
    }
   ],
   "source": [
    "import pandas as pd\n",
    "import re\n",
    "import numpy as np\n",
    "import torch\n",
    "import torch.nn as nn\n",
    "import torch.optim as optim\n",
    "from torch.utils.data import DataLoader, Dataset\n",
    "from nltk.tokenize import word_tokenize\n",
    "from sklearn.model_selection import train_test_split\n",
    "from sklearn.preprocessing import LabelEncoder\n",
    "from nltk.corpus import stopwords\n",
    "import nltk\n",
    "\n",
    "# 下载nltk资源\n",
    "nltk.download('punkt')\n",
    "nltk.download('stopwords')"
   ]
  },
  {
   "cell_type": "code",
   "execution_count": 23,
   "metadata": {},
   "outputs": [
    {
     "name": "stdout",
     "output_type": "stream",
     "text": [
      "Shortest reviews shape: (10000, 2)\n",
      "Longest reviews shape: (10000, 2)\n"
     ]
    }
   ],
   "source": [
    "# 读取数据\n",
    "imdb_df = pd.read_csv(r\"../Week5/IMDB Dataset.csv\")\n",
    "\n",
    "# 添加一列表示review的长度\n",
    "imdb_df['review_length'] = imdb_df['review'].apply(len)\n",
    "\n",
    "# 按review长度排序\n",
    "imdb_df_sorted = imdb_df.sort_values(by='review_length')\n",
    "\n",
    "# 取出最短的5000条正面和负面评论\n",
    "df_positive_shortest = imdb_df_sorted[imdb_df_sorted['sentiment']=='positive'][:5000]\n",
    "df_negative_shortest = imdb_df_sorted[imdb_df_sorted['sentiment']=='negative'][:5000]\n",
    "\n",
    "# 取出最长的5000条正面和负面评论\n",
    "df_positive_longest = imdb_df_sorted[imdb_df_sorted['sentiment']=='positive'][-5000:]\n",
    "df_negative_longest = imdb_df_sorted[imdb_df_sorted['sentiment']=='negative'][-5000:]\n",
    "\n",
    "# 删除临时列\n",
    "df_positive_shortest = df_positive_shortest.drop(columns=['review_length'])\n",
    "df_negative_shortest = df_negative_shortest.drop(columns=['review_length'])\n",
    "df_positive_longest = df_positive_longest.drop(columns=['review_length'])\n",
    "df_negative_longest = df_negative_longest.drop(columns=['review_length'])\n",
    "\n",
    "# 合并最短的评论\n",
    "imdb_shortest = pd.concat([df_positive_shortest, df_negative_shortest])\n",
    "\n",
    "# 合并最长的评论\n",
    "imdb_longest = pd.concat([df_positive_longest, df_negative_longest])\n",
    "\n",
    "# 查看数据形状\n",
    "print(\"Shortest reviews shape:\", imdb_shortest.shape)\n",
    "print(\"Longest reviews shape:\", imdb_longest.shape)"
   ]
  },
  {
   "cell_type": "code",
   "execution_count": 24,
   "metadata": {},
   "outputs": [],
   "source": [
    "def clean(imdb):\n",
    "    # 数据清洗\n",
    "    imdb['review'] = imdb['review'].apply(lambda x: re.sub('(<.*?>)', ' ', x))\n",
    "    imdb['review'] = imdb['review'].apply(lambda x: re.sub('[,\\.!?:()\"]', '', x))\n",
    "    imdb['review'] = imdb['review'].apply(lambda x: x.strip())\n",
    "    imdb['review'] = imdb['review'].apply(lambda x: re.sub('[^a-zA-Z\"]',' ',x))\n",
    "    imdb['review'] = imdb['review'].apply(lambda x: x.lower())\n",
    "clean(imdb_shortest)\n",
    "clean(imdb_longest)\n"
   ]
  },
  {
   "cell_type": "code",
   "execution_count": 25,
   "metadata": {},
   "outputs": [],
   "source": [
    "# 标记化和去除停用词\n",
    "stop_words = set(stopwords.words('english'))\n"
   ]
  },
  {
   "cell_type": "code",
   "execution_count": 27,
   "metadata": {},
   "outputs": [],
   "source": [
    "def preprocess_reviews(imdb):\n",
    "    imdb['review'] = imdb['review'].apply(lambda x: ' '.join([word for word in word_tokenize(x) if word not in stop_words]))\n",
    "# 将情感标签转换为数值\n",
    "    imdb['sentiment'] = imdb['sentiment'].apply(lambda x: 1 if x == 'positive' else 0)\n",
    "\n",
    "preprocess_reviews(imdb_shortest)\n",
    "preprocess_reviews(imdb_longest)"
   ]
  },
  {
   "cell_type": "code",
   "execution_count": 28,
   "metadata": {},
   "outputs": [],
   "source": [
    "# 构建词汇表\n",
    "tokenized_reviews = [word_tokenize(review) for review in imdb_shortest['review']]\n",
    "vocab = {word for review in tokenized_reviews for word in review}\n",
    "word2idx = {word: idx + 1 for idx, word in enumerate(vocab)}  # 0 reserved for padding\n",
    "word2idx['<PAD>'] = 0\n",
    "# 将文本转换为索引序列\n",
    "def encode_review(review):\n",
    "    return [word2idx[word] for word in word_tokenize(review)]\n",
    "\n",
    "imdb_shortest['review'] = imdb_shortest['review'].apply(encode_review)"
   ]
  },
  {
   "cell_type": "code",
   "execution_count": 29,
   "metadata": {},
   "outputs": [],
   "source": [
    "# 构建词汇表\n",
    "tokenized_reviews = [word_tokenize(review) for review in imdb_longest['review']]\n",
    "vocab = {word for review in tokenized_reviews for word in review}\n",
    "word2idx = {word: idx + 1 for idx, word in enumerate(vocab)}  # 0 reserved for padding\n",
    "word2idx['<PAD>'] = 0\n",
    "# 将文本转换为索引序列\n",
    "def encode_review(review):\n",
    "    return [word2idx[word] for word in word_tokenize(review)]\n",
    "\n",
    "imdb_longest['review'] = imdb_longest['review'].apply(encode_review)"
   ]
  },
  {
   "cell_type": "code",
   "execution_count": 30,
   "metadata": {},
   "outputs": [],
   "source": [
    "def fill(imdb):\n",
    "    # 填充序列\n",
    "    max_len = max(imdb['review'].apply(len))\n",
    "    imdb['review'] = imdb['review'].apply(lambda x: x + [0] * (max_len - len(x)))\n",
    "\n",
    "fill(imdb_longest)\n",
    "fill(imdb_shortest)"
   ]
  },
  {
   "cell_type": "code",
   "execution_count": 31,
   "metadata": {},
   "outputs": [],
   "source": [
    "# 拆分数据集\n",
    "def dataset(imdb):\n",
    "    train_reviews, test_reviews, train_labels, test_labels = train_test_split(imdb['review'], imdb['sentiment'], test_size=0.25, random_state=42)\n",
    "    return train_reviews, test_reviews, train_labels, test_labels\n",
    "trainS,testS,trainS_labels, testS_labels = dataset(imdb_shortest)\n",
    "trainL,testL,trainL_labels, testL_labels = dataset(imdb_longest)"
   ]
  },
  {
   "cell_type": "code",
   "execution_count": 32,
   "metadata": {},
   "outputs": [],
   "source": [
    "# 创建数据集类\n",
    "class IMDBDataset(Dataset):\n",
    "    def __init__(self, reviews, labels):\n",
    "        self.reviews = torch.tensor(reviews, dtype=torch.long)\n",
    "        self.labels = torch.tensor(labels, dtype=torch.float32)\n",
    "    \n",
    "    def __len__(self):\n",
    "        return len(self.reviews)\n",
    "    \n",
    "    def __getitem__(self, idx):\n",
    "        return self.reviews[idx], self.labels[idx]\n",
    "\n",
    "train_dataset = IMDBDataset(trainS.tolist(), trainS_labels.tolist())\n",
    "test_dataset = IMDBDataset(testS.tolist(), testS_labels.tolist())\n",
    "\n",
    "trainS_loader = DataLoader(train_dataset, batch_size=32, shuffle=True)\n",
    "testS_loader = DataLoader(test_dataset, batch_size=32, shuffle=False)\n",
    "\n",
    "train_dataset = IMDBDataset(trainL.tolist(), trainL_labels.tolist())\n",
    "test_dataset = IMDBDataset(testL.tolist(), testL_labels.tolist())\n",
    "\n",
    "trainL_loader = DataLoader(train_dataset, batch_size=32, shuffle=True)\n",
    "testL_loader = DataLoader(test_dataset, batch_size=32, shuffle=False)"
   ]
  },
  {
   "cell_type": "code",
   "execution_count": 33,
   "metadata": {},
   "outputs": [],
   "source": [
    "# 定义模型\n",
    "class SentimentRNN(nn.Module):\n",
    "    def __init__(self, vocab_size, embed_size, hidden_size, output_size, n_layers=1, bidirectional=False):\n",
    "        super(SentimentRNN, self).__init__()\n",
    "        self.embedding = nn.Embedding(vocab_size, embed_size)\n",
    "        self.rnn = nn.LSTM(embed_size, hidden_size, n_layers, bidirectional=bidirectional, batch_first=True)\n",
    "        self.fc = nn.Linear(hidden_size * (2 if bidirectional else 1), output_size)\n",
    "        self.sigmoid = nn.Sigmoid()\n",
    "    \n",
    "    def forward(self, x):\n",
    "        x = self.embedding(x)\n",
    "        x, _ = self.rnn(x)\n",
    "        x = x[:, -1, :]  # 取最后一个时间步的输出\n",
    "        x = self.fc(x)\n",
    "        x = self.sigmoid(x)\n",
    "        return x"
   ]
  },
  {
   "cell_type": "code",
   "execution_count": 41,
   "metadata": {},
   "outputs": [],
   "source": [
    "# 检查是否支持 MPS\n",
    "if torch.backends.mps.is_available():\n",
    "    device = torch.device(\"mps\")\n",
    "else:\n",
    "    device = torch.device(\"cpu\")"
   ]
  },
  {
   "cell_type": "code",
   "execution_count": 34,
   "metadata": {},
   "outputs": [],
   "source": [
    "# 模型参数\n",
    "vocab_size = len(word2idx)\n",
    "embed_size = 128\n",
    "hidden_size = 128\n",
    "output_size = 1\n",
    "n_layers = 2\n",
    "bidirectional = True"
   ]
  },
  {
   "cell_type": "code",
   "execution_count": 39,
   "metadata": {},
   "outputs": [],
   "source": [
    "model = SentimentRNN(vocab_size, embed_size, hidden_size, output_size, n_layers, bidirectional).to(device)\n",
    "criterion = nn.BCELoss()\n",
    "optimizer = optim.Adam(model.parameters(), lr=0.001)"
   ]
  },
  {
   "cell_type": "code",
   "execution_count": 40,
   "metadata": {},
   "outputs": [],
   "source": [
    "# 训练模型\n",
    "n_epochs = 5"
   ]
  },
  {
   "cell_type": "code",
   "execution_count": 44,
   "metadata": {},
   "outputs": [
    {
     "name": "stdout",
     "output_type": "stream",
     "text": [
      "Epoch 1/10, Loss: 0.00021586472576018423\n"
     ]
    },
    {
     "ename": "KeyboardInterrupt",
     "evalue": "",
     "output_type": "error",
     "traceback": [
      "\u001b[0;31m---------------------------------------------------------------------------\u001b[0m",
      "\u001b[0;31mKeyboardInterrupt\u001b[0m                         Traceback (most recent call last)",
      "Cell \u001b[0;32mIn[44], line 16\u001b[0m\n\u001b[1;32m     12\u001b[0m         \u001b[38;5;28mprint\u001b[39m(\u001b[38;5;124mf\u001b[39m\u001b[38;5;124m'\u001b[39m\u001b[38;5;124mEpoch \u001b[39m\u001b[38;5;132;01m{\u001b[39;00mepoch\u001b[38;5;241m+\u001b[39m\u001b[38;5;241m1\u001b[39m\u001b[38;5;132;01m}\u001b[39;00m\u001b[38;5;124m/\u001b[39m\u001b[38;5;132;01m{\u001b[39;00mn_epochs\u001b[38;5;132;01m}\u001b[39;00m\u001b[38;5;124m, Loss: \u001b[39m\u001b[38;5;132;01m{\u001b[39;00mloss\u001b[38;5;241m.\u001b[39mitem()\u001b[38;5;132;01m}\u001b[39;00m\u001b[38;5;124m'\u001b[39m)\n\u001b[1;32m     15\u001b[0m \u001b[38;5;66;03m# 调用训练函数\u001b[39;00m\n\u001b[0;32m---> 16\u001b[0m \u001b[43mtrain\u001b[49m\u001b[43m(\u001b[49m\u001b[43mmodel\u001b[49m\u001b[43m,\u001b[49m\u001b[43m \u001b[49m\u001b[43mtrainL_loader\u001b[49m\u001b[43m,\u001b[49m\u001b[43m \u001b[49m\u001b[43mcriterion\u001b[49m\u001b[43m,\u001b[49m\u001b[43m \u001b[49m\u001b[43moptimizer\u001b[49m\u001b[43m,\u001b[49m\u001b[43m \u001b[49m\u001b[43mn_epochs\u001b[49m\u001b[43m)\u001b[49m\n",
      "Cell \u001b[0;32mIn[44], line 6\u001b[0m, in \u001b[0;36mtrain\u001b[0;34m(model, train_loader, criterion, optimizer, n_epochs)\u001b[0m\n\u001b[1;32m      4\u001b[0m \u001b[38;5;28;01mfor\u001b[39;00m epoch \u001b[38;5;129;01min\u001b[39;00m \u001b[38;5;28mrange\u001b[39m(n_epochs):\n\u001b[1;32m      5\u001b[0m     \u001b[38;5;28;01mfor\u001b[39;00m inputs, targets \u001b[38;5;129;01min\u001b[39;00m train_loader:\n\u001b[0;32m----> 6\u001b[0m         inputs, targets \u001b[38;5;241m=\u001b[39m \u001b[43minputs\u001b[49m\u001b[38;5;241;43m.\u001b[39;49m\u001b[43mto\u001b[49m\u001b[43m(\u001b[49m\u001b[43mdevice\u001b[49m\u001b[43m)\u001b[49m, targets\u001b[38;5;241m.\u001b[39mto(device)\n\u001b[1;32m      7\u001b[0m         optimizer\u001b[38;5;241m.\u001b[39mzero_grad()\n\u001b[1;32m      8\u001b[0m         outputs \u001b[38;5;241m=\u001b[39m model(inputs)\n",
      "\u001b[0;31mKeyboardInterrupt\u001b[0m: "
     ]
    }
   ],
   "source": [
    "# 训练函数\n",
    "def train(model, train_loader, criterion, optimizer, n_epochs):\n",
    "    model.train()\n",
    "    for epoch in range(n_epochs):\n",
    "        for inputs, targets in train_loader:\n",
    "            inputs, targets = inputs.to(device), targets.to(device)\n",
    "            optimizer.zero_grad()\n",
    "            outputs = model(inputs)\n",
    "            loss = criterion(outputs.squeeze(), targets)\n",
    "            loss.backward()\n",
    "            optimizer.step()\n",
    "        print(f'Epoch {epoch+1}/{n_epochs}, Loss: {loss.item()}')\n",
    "\n",
    "\n",
    "# 调用训练函数\n",
    "train(model, trainS_loader, criterion, optimizer, n_epochs)\n"
   ]
  },
  {
   "cell_type": "code",
   "execution_count": null,
   "metadata": {},
   "outputs": [],
   "source": [
    "# 测试模型\n",
    "def evaluate(model, test_loader, criterion):\n",
    "    model.eval()\n",
    "    total_loss = 0\n",
    "    total_correct = 0\n",
    "    with torch.no_grad():\n",
    "        for inputs, targets in test_loader:\n",
    "            inputs, targets = inputs.to(device), targets.to(device)\n",
    "            outputs = model(inputs)\n",
    "            loss = criterion(outputs.squeeze(), targets)\n",
    "            total_loss += loss.item()\n",
    "            predicted = (outputs.squeeze() > 0.5).float()\n",
    "            total_correct += (predicted == targets).sum().item()\n",
    "    return total_loss / len(test_loader), total_correct / len(test_loader.dataset)\n",
    "\n",
    "test_loss, test_accuracy = evaluate(model, testL_loader, criterion)\n",
    "print(f'Test Loss: {test_loss}, Test Accuracy: {test_accuracy}')\n"
   ]
  },
  {
   "cell_type": "code",
   "execution_count": null,
   "metadata": {},
   "outputs": [],
   "source": []
  }
 ],
 "metadata": {
  "kernelspec": {
   "display_name": "NLP",
   "language": "python",
   "name": "python3"
  },
  "language_info": {
   "codemirror_mode": {
    "name": "ipython",
    "version": 3
   },
   "file_extension": ".py",
   "mimetype": "text/x-python",
   "name": "python",
   "nbconvert_exporter": "python",
   "pygments_lexer": "ipython3",
   "version": "3.8.19"
  }
 },
 "nbformat": 4,
 "nbformat_minor": 2
}
