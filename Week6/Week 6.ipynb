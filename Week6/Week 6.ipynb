{
 "cells": [
  {
   "cell_type": "markdown",
   "id": "6093b6d5",
   "metadata": {},
   "source": [
    "# Week 6"
   ]
  },
  {
   "cell_type": "markdown",
   "id": "734cb092",
   "metadata": {},
   "source": [
    "## Importing Libraries"
   ]
  },
  {
   "cell_type": "code",
   "execution_count": 8,
   "id": "e5f5c461",
   "metadata": {},
   "outputs": [],
   "source": [
    "import pandas as pd\n",
    "import re\n",
    "import numpy as np\n",
    "import tensorflow as tf\n",
    "import nltk\n",
    "from nltk.corpus import stopwords \n",
    "from nltk.tokenize import word_tokenize "
   ]
  },
  {
   "cell_type": "markdown",
   "id": "ca0c7d5a",
   "metadata": {},
   "source": [
    "## Data Preprocessing"
   ]
  },
  {
   "cell_type": "markdown",
   "id": "1a95407b",
   "metadata": {},
   "source": [
    "We will continue to use the IMDB dataset for this week's examples."
   ]
  },
  {
   "cell_type": "code",
   "execution_count": 5,
   "id": "e3772733",
   "metadata": {},
   "outputs": [
    {
     "data": {
      "text/plain": [
       "(10000, 2)"
      ]
     },
     "execution_count": 5,
     "metadata": {},
     "output_type": "execute_result"
    }
   ],
   "source": [
    "imdb_df = pd.read_csv(r\"C:\\Users\\liuru\\Desktop\\EE6405\\Data\\IMDB\\IMDB Dataset.csv\")\n",
    "df_positive = imdb_df[imdb_df['sentiment']=='positive'][:5000]\n",
    "df_negative = imdb_df[imdb_df['sentiment']=='negative'][:5000]\n",
    "imdb = pd.concat([df_positive,df_negative ])\n",
    "imdb.shape"
   ]
  },
  {
   "cell_type": "code",
   "execution_count": 6,
   "id": "2c5592e9",
   "metadata": {},
   "outputs": [],
   "source": [
    "# remove \"(<.*?>)\" markup\n",
    "imdb['review'] = imdb['review'].apply(lambda x: re.sub('(<.*?>)', ' ', x))\n",
    "# remove punctuation marks \n",
    "imdb['review'] = imdb['review'].apply(lambda x: re.sub('[,\\.!?:()\"]', '', x))\n",
    "# remove whitespace\n",
    "imdb['review'] = imdb['review'].apply(lambda x: x.strip())\n",
    "# remove all strings that contain a non-letter\n",
    "imdb['review'] = imdb['review'].apply(lambda x: re.sub('[^a-zA-Z\"]',' ',x))\n",
    "# convert to lower\n",
    "imdb['review'] = imdb['review'].apply(lambda x: x.lower())"
   ]
  },
  {
   "cell_type": "code",
   "execution_count": 9,
   "id": "b6c75809",
   "metadata": {},
   "outputs": [
    {
     "name": "stderr",
     "output_type": "stream",
     "text": [
      "[nltk_data] Downloading package wordnet to\n",
      "[nltk_data]     C:\\Users\\liuru\\AppData\\Roaming\\nltk_data...\n",
      "[nltk_data]   Package wordnet is already up-to-date!\n",
      "[nltk_data] Downloading package averaged_perceptron_tagger to\n",
      "[nltk_data]     C:\\Users\\liuru\\AppData\\Roaming\\nltk_data...\n",
      "[nltk_data]   Package averaged_perceptron_tagger is already up-to-\n",
      "[nltk_data]       date!\n"
     ]
    }
   ],
   "source": [
    "nltk.download('wordnet')\n",
    "from nltk.stem import WordNetLemmatizer\n",
    "from nltk.tokenize import word_tokenize\n",
    "nltk.download('averaged_perceptron_tagger')\n",
    "lemmatizer= WordNetLemmatizer()\n",
    "from nltk.corpus import wordnet"
   ]
  },
  {
   "cell_type": "code",
   "execution_count": 10,
   "id": "20256eac",
   "metadata": {},
   "outputs": [],
   "source": [
    "def pos_tagger(nltk_tag):\n",
    "    if nltk_tag.startswith('J'):\n",
    "        return wordnet.ADJ\n",
    "    elif nltk_tag.startswith('V'):\n",
    "        return wordnet.VERB\n",
    "    elif nltk_tag.startswith('N'):\n",
    "        return wordnet.NOUN\n",
    "    elif nltk_tag.startswith('R'):\n",
    "        return wordnet.ADV\n",
    "    else:         \n",
    "        return None\n",
    "def tagged_lemma(string):\n",
    "    \n",
    "    pos_tagged = nltk.pos_tag(nltk.word_tokenize(string))\n",
    "\n",
    "    wordnet_tagged = list(map(lambda x: (x[0], pos_tagger(x[1])), pos_tagged))\n",
    "\n",
    "    lemmatized_sentence = []\n",
    "\n",
    "    for word, tag in wordnet_tagged:\n",
    "        if tag is None:\n",
    "            lemmatized_sentence.append(word)\n",
    "        else:       \n",
    "            lemmatized_sentence.append(lemmatizer.lemmatize(word, tag))\n",
    "    lemmatized_sentence = \" \".join(lemmatized_sentence)\n",
    "    return lemmatized_sentence"
   ]
  },
  {
   "cell_type": "code",
   "execution_count": 11,
   "id": "9fad0ecd",
   "metadata": {},
   "outputs": [],
   "source": [
    "imdb['review']=imdb['review'].apply(tagged_lemma)"
   ]
  },
  {
   "cell_type": "code",
   "execution_count": 12,
   "id": "42dc5e25",
   "metadata": {},
   "outputs": [],
   "source": [
    "imdb.sentiment = imdb.sentiment.apply(lambda x: 1 if x=='positive' else 0)"
   ]
  },
  {
   "cell_type": "code",
   "execution_count": 17,
   "id": "d468ca70",
   "metadata": {},
   "outputs": [],
   "source": [
    "from sklearn.model_selection import train_test_split\n",
    "training_set, test_set= train_test_split(imdb, test_size=0.25, random_state=42)"
   ]
  },
  {
   "cell_type": "code",
   "execution_count": 18,
   "id": "a5e0b741",
   "metadata": {},
   "outputs": [
    {
     "data": {
      "text/html": [
       "<div>\n",
       "<style scoped>\n",
       "    .dataframe tbody tr th:only-of-type {\n",
       "        vertical-align: middle;\n",
       "    }\n",
       "\n",
       "    .dataframe tbody tr th {\n",
       "        vertical-align: top;\n",
       "    }\n",
       "\n",
       "    .dataframe thead th {\n",
       "        text-align: right;\n",
       "    }\n",
       "</style>\n",
       "<table border=\"1\" class=\"dataframe\">\n",
       "  <thead>\n",
       "    <tr style=\"text-align: right;\">\n",
       "      <th></th>\n",
       "      <th>review</th>\n",
       "      <th>sentiment</th>\n",
       "    </tr>\n",
       "  </thead>\n",
       "  <tbody>\n",
       "    <tr>\n",
       "      <th>9758</th>\n",
       "      <td>brother with psychokinetic power yes really du...</td>\n",
       "      <td>1</td>\n",
       "    </tr>\n",
       "    <tr>\n",
       "      <th>8709</th>\n",
       "      <td>goodnight mister tom be so beautifully film an...</td>\n",
       "      <td>1</td>\n",
       "    </tr>\n",
       "    <tr>\n",
       "      <th>3411</th>\n",
       "      <td>ok just what the hell be all this suppose to m...</td>\n",
       "      <td>0</td>\n",
       "    </tr>\n",
       "    <tr>\n",
       "      <th>9644</th>\n",
       "      <td>i don t honestly know what legal or illegal su...</td>\n",
       "      <td>0</td>\n",
       "    </tr>\n",
       "    <tr>\n",
       "      <th>2171</th>\n",
       "      <td>when i rent this movie i think i be go to see ...</td>\n",
       "      <td>1</td>\n",
       "    </tr>\n",
       "    <tr>\n",
       "      <th>...</th>\n",
       "      <td>...</td>\n",
       "      <td>...</td>\n",
       "    </tr>\n",
       "    <tr>\n",
       "      <th>1501</th>\n",
       "      <td>yes bad act isn t only one thing to mention ba...</td>\n",
       "      <td>0</td>\n",
       "    </tr>\n",
       "    <tr>\n",
       "      <th>358</th>\n",
       "      <td>this movie feature charlie spradling dancing i...</td>\n",
       "      <td>0</td>\n",
       "    </tr>\n",
       "    <tr>\n",
       "      <th>761</th>\n",
       "      <td>i think my summary say it all this mtv ish ans...</td>\n",
       "      <td>0</td>\n",
       "    </tr>\n",
       "    <tr>\n",
       "      <th>1685</th>\n",
       "      <td>it s unbelievable but the fourth be well than ...</td>\n",
       "      <td>1</td>\n",
       "    </tr>\n",
       "    <tr>\n",
       "      <th>4497</th>\n",
       "      <td>as long as you go into this movie with the und...</td>\n",
       "      <td>0</td>\n",
       "    </tr>\n",
       "  </tbody>\n",
       "</table>\n",
       "<p>7500 rows × 2 columns</p>\n",
       "</div>"
      ],
      "text/plain": [
       "                                                 review  sentiment\n",
       "9758  brother with psychokinetic power yes really du...          1\n",
       "8709  goodnight mister tom be so beautifully film an...          1\n",
       "3411  ok just what the hell be all this suppose to m...          0\n",
       "9644  i don t honestly know what legal or illegal su...          0\n",
       "2171  when i rent this movie i think i be go to see ...          1\n",
       "...                                                 ...        ...\n",
       "1501  yes bad act isn t only one thing to mention ba...          0\n",
       "358   this movie feature charlie spradling dancing i...          0\n",
       "761   i think my summary say it all this mtv ish ans...          0\n",
       "1685  it s unbelievable but the fourth be well than ...          1\n",
       "4497  as long as you go into this movie with the und...          0\n",
       "\n",
       "[7500 rows x 2 columns]"
      ]
     },
     "execution_count": 18,
     "metadata": {},
     "output_type": "execute_result"
    }
   ],
   "source": [
    "training_set"
   ]
  },
  {
   "cell_type": "markdown",
   "id": "a89a3e1d",
   "metadata": {},
   "source": [
    "## RNNs"
   ]
  },
  {
   "cell_type": "markdown",
   "id": "0d05f5f8",
   "metadata": {},
   "source": [
    "Importing libraries:\n",
    "We will use the tensorflow library to conctruct out neural models."
   ]
  },
  {
   "cell_type": "code",
   "execution_count": 1,
   "id": "48208fd1",
   "metadata": {},
   "outputs": [],
   "source": [
    "import numpy as np\n",
    "import tensorflow as tf"
   ]
  },
  {
   "cell_type": "markdown",
   "id": "62ee4d0b",
   "metadata": {},
   "source": [
    "### Text Encoder:\n",
    "The raw text loaded by tfds needs to be processed before it can be used in a model. The simplest way to process text for training is using the TextVectorization layer. "
   ]
  },
  {
   "cell_type": "code",
   "execution_count": 31,
   "id": "45deed2a",
   "metadata": {},
   "outputs": [],
   "source": [
    "reviews = training_set['review'].tolist()"
   ]
  },
  {
   "cell_type": "code",
   "execution_count": 34,
   "id": "3cfd3095",
   "metadata": {},
   "outputs": [],
   "source": [
    "VOCAB_SIZE = 1000\n",
    "encoder = tf.keras.layers.experimental.preprocessing.TextVectorization(\n",
    "    max_tokens=VOCAB_SIZE,\n",
    "    output_mode='int',\n",
    "    pad_to_max_tokens=True\n",
    ")\n",
    "encoder.adapt(reviews)\n",
    "\n",
    "vocab = np.array(encoder.get_vocabulary())"
   ]
  },
  {
   "cell_type": "code",
   "execution_count": 35,
   "id": "58740ef9",
   "metadata": {},
   "outputs": [
    {
     "data": {
      "text/plain": [
       "array(['', '[UNK]', 'the', 'be', 'and', 'a', 'of', 'to', 'it', 'in', 'i',\n",
       "       'this', 'that', 's', 'have', 'movie', 'film', 'as', 'with', 'for'],\n",
       "      dtype='<U14')"
      ]
     },
     "execution_count": 35,
     "metadata": {},
     "output_type": "execute_result"
    }
   ],
   "source": [
    "vocab[:20]"
   ]
  },
  {
   "cell_type": "code",
   "execution_count": 36,
   "id": "a19ba8bc",
   "metadata": {},
   "outputs": [
    {
     "data": {
      "text/plain": [
       "'brother with psychokinetic power yes really duel not just for debra winger s affection but really over a secret from their childhood that leave them at odds over their power there be surreal touches the fire brigade that act like a singing greek chorus but there be also humour wit and romance the soundtrack be great also and similar to the way american werewolf in london use every great wolf song they could get but with fire and i don t think i ll ever forget dennis quaid mmmmm dennis quaid set his own trailer a rockin too she s a lady priceless best line miss from the quote section btw once you ve have a clown you never go back i love this movie i just order the dvd from the us and if the comment write by the kind of people who d be happier with legally blond don t put you off give it a try'"
      ]
     },
     "execution_count": 36,
     "metadata": {},
     "output_type": "execute_result"
    }
   ],
   "source": [
    "training_set.review.iloc[0]"
   ]
  },
  {
   "cell_type": "code",
   "execution_count": 46,
   "id": "a7e6d2a6",
   "metadata": {},
   "outputs": [
    {
     "data": {
      "text/plain": [
       "array([ 10,  98,  23,   1,  82,  49,   1,  45,   1,   1,  31,   2, 414,\n",
       "         3,  22,  53,   2, 200,  11,   1, 319,   6,   1,   2, 178, 698,\n",
       "         2, 113, 698,   2, 682, 698,   2, 227, 848,   6,   2,  15,   3,\n",
       "        12,   5, 176,  18,   1,   1, 490,  94, 587,   5,   1, 733,   1,\n",
       "        21,  42,  14,   7,   3, 457,  47,   6, 126, 306,   7,  59,  66,\n",
       "       183,   6,  11,   2,  72, 244,  10,  14,   7,  59,   8,   8,   3,\n",
       "        22,   2, 130,   1,  17, 142,   6,   5, 118, 370,   1,   4,   2,\n",
       "        15,  12,  94,  22, 109,   8,   3,   2, 138,  27,  12,  10, 123,\n",
       "         7,  39,  10, 705, 842, 147,   2, 227, 102,   4,   3,  42, 922,\n",
       "        90, 355,  11,  15,   3,   9,   1,   1,  28,  24, 488, 446,  45,\n",
       "        59,  11,   1,   1,   9,   2,  15,  98,  23, 698,  17,  81,  17,\n",
       "         2, 463,  15,   4, 353,  28,  48,  21, 123,   5,  40,   1, 733,\n",
       "        15,   2,   1,  18, 571,   1,   1,   1,   1,   1, 312,  15,   7,\n",
       "        59, 210, 488,   9, 240,   6,  11, 319,   6, 911,   1,  23],\n",
       "      dtype=int64)"
      ]
     },
     "execution_count": 46,
     "metadata": {},
     "output_type": "execute_result"
    }
   ],
   "source": [
    "encoded_example = encoder(training_set.review.iloc[3]).numpy()\n",
    "encoded_example"
   ]
  },
  {
   "cell_type": "markdown",
   "id": "b4727ff9",
   "metadata": {},
   "source": [
    "### Unidirectional RNN:\n",
    "To create a unidirectional RNN, we build the model as a tf.keras.Sequential.\n",
    "\n",
    "The first layer is the encoder, which converts the text to a sequence of token indices.\n",
    "\n",
    "After the encoder is an embedding layer. An embedding layer stores one vector per word. When called, it converts the sequences of word indices to sequences of vectors. These vectors are trainable. After training (on enough data), words with similar meanings often have similar vectors.\n",
    "\n",
    "This index-lookup is much more efficient than the equivalent operation of passing a one-hot encoded vector through a tf.keras.layers.Dense layer.\n",
    "\n",
    "A recurrent neural network (RNN) processes sequence input by iterating through the elements. RNNs pass the outputs from one timestep to their input on the next timestep.\n",
    "\n",
    "After the RNN has converted the sequence to a single vector the two layers.Dense do some final processing, and convert from this vector representation to a single logit as the classification output."
   ]
  },
  {
   "cell_type": "code",
   "execution_count": 52,
   "id": "c823035f",
   "metadata": {},
   "outputs": [],
   "source": [
    "simpleRNN = tf.keras.Sequential([\n",
    "    encoder,\n",
    "    tf.keras.layers.Embedding(\n",
    "        input_dim=len(encoder.get_vocabulary()),\n",
    "        output_dim=64,\n",
    "        # Use masking to handle the variable sequence lengths\n",
    "        mask_zero=True),\n",
    "    tf.keras.layers.SimpleRNN(64),\n",
    "    tf.keras.layers.Dense(64, activation='relu'),\n",
    "    tf.keras.layers.Dense(1)\n",
    "])"
   ]
  },
  {
   "cell_type": "markdown",
   "id": "450238f8",
   "metadata": {},
   "source": [
    "We use the Binary Crossentropy Loss since we are dealing with Binary Classification. We also use the Adam optmizer. We use a smaller learning rate."
   ]
  },
  {
   "cell_type": "code",
   "execution_count": 53,
   "id": "f5400bf5",
   "metadata": {},
   "outputs": [],
   "source": [
    "simpleRNN.compile(loss=tf.keras.losses.BinaryCrossentropy(from_logits=True),\n",
    "              optimizer=tf.keras.optimizers.Adam(1e-4),\n",
    "              metrics=['accuracy'])"
   ]
  },
  {
   "cell_type": "code",
   "execution_count": 55,
   "id": "2e6b620c",
   "metadata": {},
   "outputs": [
    {
     "name": "stdout",
     "output_type": "stream",
     "text": [
      "Epoch 1/10\n",
      "235/235 [==============================] - 20s 80ms/step - loss: 0.6908 - accuracy: 0.5029 - val_loss: 0.6813 - val_accuracy: 0.4912\n",
      "Epoch 2/10\n",
      "235/235 [==============================] - 19s 79ms/step - loss: 0.6801 - accuracy: 0.5036 - val_loss: 0.6852 - val_accuracy: 0.4912\n",
      "Epoch 3/10\n",
      "235/235 [==============================] - 19s 79ms/step - loss: 0.6780 - accuracy: 0.5099 - val_loss: 0.6924 - val_accuracy: 0.4912\n",
      "Epoch 4/10\n",
      "235/235 [==============================] - 19s 80ms/step - loss: 0.6620 - accuracy: 0.5293 - val_loss: 0.5924 - val_accuracy: 0.6464\n",
      "Epoch 5/10\n",
      "235/235 [==============================] - 19s 81ms/step - loss: 0.5773 - accuracy: 0.6739 - val_loss: 0.5338 - val_accuracy: 0.7408\n",
      "Epoch 6/10\n",
      "235/235 [==============================] - 19s 82ms/step - loss: 0.5939 - accuracy: 0.6931 - val_loss: 0.4760 - val_accuracy: 0.7832\n",
      "Epoch 7/10\n",
      "235/235 [==============================] - 19s 80ms/step - loss: 0.4489 - accuracy: 0.7976 - val_loss: 0.4279 - val_accuracy: 0.8116\n",
      "Epoch 8/10\n",
      "235/235 [==============================] - 19s 81ms/step - loss: 0.3736 - accuracy: 0.8388 - val_loss: 0.3977 - val_accuracy: 0.8260\n",
      "Epoch 9/10\n",
      "235/235 [==============================] - 19s 80ms/step - loss: 0.3352 - accuracy: 0.8585 - val_loss: 0.3886 - val_accuracy: 0.8356\n",
      "Epoch 10/10\n",
      "235/235 [==============================] - 19s 80ms/step - loss: 0.3044 - accuracy: 0.8769 - val_loss: 0.3603 - val_accuracy: 0.8328\n"
     ]
    }
   ],
   "source": [
    "historyRNN = simpleRNN.fit(training_set['review'],training_set['sentiment'], epochs=10,\n",
    "                    validation_data=(test_set['review'],test_set['sentiment']), \n",
    "                    validation_steps=30)"
   ]
  },
  {
   "cell_type": "markdown",
   "id": "9e9d4d0a",
   "metadata": {},
   "source": [
    "### LSTM:\n",
    "To modify the code and create an LSTM model, we simply change the RNN layer to an LSTM layer."
   ]
  },
  {
   "cell_type": "code",
   "execution_count": 56,
   "id": "cdee11a4",
   "metadata": {},
   "outputs": [],
   "source": [
    "lstm = tf.keras.Sequential([\n",
    "    encoder,\n",
    "    tf.keras.layers.Embedding(\n",
    "        input_dim=len(encoder.get_vocabulary()),\n",
    "        output_dim=64,\n",
    "        # Use masking to handle the variable sequence lengths\n",
    "        mask_zero=True),\n",
    "    tf.keras.layers.LSTM(64), #Replacing the simple RNN with a LSTM\n",
    "    tf.keras.layers.Dense(64, activation='relu'),\n",
    "    tf.keras.layers.Dense(1)\n",
    "])"
   ]
  },
  {
   "cell_type": "code",
   "execution_count": 58,
   "id": "1c260cd8",
   "metadata": {},
   "outputs": [],
   "source": [
    "lstm.compile(loss=tf.keras.losses.BinaryCrossentropy(from_logits=True),\n",
    "              optimizer=tf.keras.optimizers.Adam(1e-4),\n",
    "              metrics=['accuracy'])"
   ]
  },
  {
   "cell_type": "code",
   "execution_count": 59,
   "id": "3c451a46",
   "metadata": {},
   "outputs": [
    {
     "name": "stdout",
     "output_type": "stream",
     "text": [
      "Epoch 1/10\n",
      "235/235 [==============================] - 45s 180ms/step - loss: 0.6915 - accuracy: 0.5029 - val_loss: 0.6823 - val_accuracy: 0.4912\n",
      "Epoch 2/10\n",
      "235/235 [==============================] - 43s 184ms/step - loss: 0.6022 - accuracy: 0.6168 - val_loss: 0.6392 - val_accuracy: 0.4912\n",
      "Epoch 3/10\n",
      "235/235 [==============================] - 45s 190ms/step - loss: 0.5002 - accuracy: 0.7167 - val_loss: 0.4852 - val_accuracy: 0.8268\n",
      "Epoch 4/10\n",
      "235/235 [==============================] - 44s 188ms/step - loss: 0.3882 - accuracy: 0.8361 - val_loss: 0.3698 - val_accuracy: 0.8400\n",
      "Epoch 5/10\n",
      "235/235 [==============================] - 45s 190ms/step - loss: 0.3316 - accuracy: 0.8635 - val_loss: 0.3397 - val_accuracy: 0.8516\n",
      "Epoch 6/10\n",
      "235/235 [==============================] - 44s 189ms/step - loss: 0.3095 - accuracy: 0.8735 - val_loss: 0.3708 - val_accuracy: 0.8472\n",
      "Epoch 7/10\n",
      "235/235 [==============================] - 45s 191ms/step - loss: 0.2939 - accuracy: 0.8824 - val_loss: 0.3368 - val_accuracy: 0.8620\n",
      "Epoch 8/10\n",
      "235/235 [==============================] - 47s 198ms/step - loss: 0.2801 - accuracy: 0.8893 - val_loss: 0.3401 - val_accuracy: 0.8508\n",
      "Epoch 9/10\n",
      "235/235 [==============================] - 46s 194ms/step - loss: 0.2751 - accuracy: 0.8932 - val_loss: 0.3643 - val_accuracy: 0.8500\n",
      "Epoch 10/10\n",
      "235/235 [==============================] - 44s 189ms/step - loss: 0.2623 - accuracy: 0.8987 - val_loss: 0.3371 - val_accuracy: 0.8528\n"
     ]
    }
   ],
   "source": [
    "historyLSTM = lstm.fit(training_set['review'],training_set['sentiment'], epochs=10,\n",
    "                    validation_data=(test_set['review'],test_set['sentiment']), \n",
    "                    validation_steps=30)"
   ]
  },
  {
   "cell_type": "markdown",
   "id": "cb0c0c46",
   "metadata": {},
   "source": [
    "### Bi-Directional LSTM:\n",
    "To implement the Bi-directional LSTM, we modify the code as follows:"
   ]
  },
  {
   "cell_type": "code",
   "execution_count": 60,
   "id": "338d73f0",
   "metadata": {},
   "outputs": [],
   "source": [
    "biDir = tf.keras.Sequential([\n",
    "    encoder,\n",
    "    tf.keras.layers.Embedding(\n",
    "        input_dim=len(encoder.get_vocabulary()),\n",
    "        output_dim=64,\n",
    "        # Use masking to handle the variable sequence lengths\n",
    "        mask_zero=True),\n",
    "    tf.keras.layers.Bidirectional(tf.keras.layers.LSTM(64)), #Replacing the LSTM with a bidirectional LSTM\n",
    "    tf.keras.layers.Dense(64, activation='relu'),\n",
    "    tf.keras.layers.Dense(1)\n",
    "])"
   ]
  },
  {
   "cell_type": "code",
   "execution_count": 61,
   "id": "b09016c0",
   "metadata": {},
   "outputs": [],
   "source": [
    "biDir.compile(loss=tf.keras.losses.BinaryCrossentropy(from_logits=True),\n",
    "              optimizer=tf.keras.optimizers.Adam(1e-4),\n",
    "              metrics=['accuracy'])"
   ]
  },
  {
   "cell_type": "code",
   "execution_count": 62,
   "id": "de4400c4",
   "metadata": {},
   "outputs": [
    {
     "name": "stdout",
     "output_type": "stream",
     "text": [
      "Epoch 1/10\n",
      "235/235 [==============================] - 89s 357ms/step - loss: 0.6924 - accuracy: 0.5029 - val_loss: 0.6901 - val_accuracy: 0.4912\n",
      "Epoch 2/10\n",
      "235/235 [==============================] - 98s 418ms/step - loss: 0.6247 - accuracy: 0.5997 - val_loss: 0.5227 - val_accuracy: 0.7112\n",
      "Epoch 3/10\n",
      "235/235 [==============================] - 103s 439ms/step - loss: 0.4905 - accuracy: 0.7407 - val_loss: 0.4683 - val_accuracy: 0.7336\n",
      "Epoch 4/10\n",
      "235/235 [==============================] - 104s 443ms/step - loss: 0.4500 - accuracy: 0.7604 - val_loss: 0.4357 - val_accuracy: 0.8104\n",
      "Epoch 5/10\n",
      "235/235 [==============================] - 109s 466ms/step - loss: 0.4027 - accuracy: 0.8176 - val_loss: 0.4594 - val_accuracy: 0.7744\n",
      "Epoch 6/10\n",
      "235/235 [==============================] - 109s 466ms/step - loss: 0.4058 - accuracy: 0.8080 - val_loss: 0.3897 - val_accuracy: 0.8204\n",
      "Epoch 7/10\n",
      "235/235 [==============================] - 106s 451ms/step - loss: 0.3412 - accuracy: 0.8513 - val_loss: 0.3696 - val_accuracy: 0.8284\n",
      "Epoch 8/10\n",
      "235/235 [==============================] - 112s 478ms/step - loss: 0.3170 - accuracy: 0.8655 - val_loss: 0.3519 - val_accuracy: 0.8464\n",
      "Epoch 9/10\n",
      "235/235 [==============================] - 112s 475ms/step - loss: 0.2978 - accuracy: 0.8767 - val_loss: 0.3496 - val_accuracy: 0.8336\n",
      "Epoch 10/10\n",
      "235/235 [==============================] - 106s 452ms/step - loss: 0.2893 - accuracy: 0.8804 - val_loss: 0.3346 - val_accuracy: 0.8480\n"
     ]
    }
   ],
   "source": [
    "historybiDir = biDir.fit(training_set['review'],training_set['sentiment'], epochs=10,\n",
    "                    validation_data=(test_set['review'],test_set['sentiment']), \n",
    "                    validation_steps=30)"
   ]
  },
  {
   "cell_type": "markdown",
   "id": "06feafb9",
   "metadata": {},
   "source": [
    "### GRUs:\n",
    "Similarly, to create a GRU, we simply replace the corresponding layer."
   ]
  },
  {
   "cell_type": "code",
   "execution_count": 69,
   "id": "ce981e48",
   "metadata": {},
   "outputs": [],
   "source": [
    "gru = tf.keras.Sequential([\n",
    "    encoder,\n",
    "    tf.keras.layers.Embedding(\n",
    "        input_dim=len(encoder.get_vocabulary()),\n",
    "        output_dim=64,\n",
    "        # Use masking to handle the variable sequence lengths\n",
    "        mask_zero=True),\n",
    "    tf.keras.layers.GRU(64),  # Replace with a GRU layer\n",
    "    tf.keras.layers.Dense(64, activation='relu'),\n",
    "    tf.keras.layers.Dense(1)\n",
    "])"
   ]
  },
  {
   "cell_type": "code",
   "execution_count": 70,
   "id": "ac098da9",
   "metadata": {},
   "outputs": [],
   "source": [
    "gru.compile(loss=tf.keras.losses.BinaryCrossentropy(from_logits=True),\n",
    "              optimizer=tf.keras.optimizers.Adam(1e-4),\n",
    "              metrics=['accuracy'])"
   ]
  },
  {
   "cell_type": "code",
   "execution_count": 71,
   "id": "2a491d15",
   "metadata": {},
   "outputs": [
    {
     "name": "stdout",
     "output_type": "stream",
     "text": [
      "Epoch 1/10\n",
      "235/235 [==============================] - 57s 233ms/step - loss: 0.6921 - accuracy: 0.5029 - val_loss: 0.6910 - val_accuracy: 0.4912\n",
      "Epoch 2/10\n",
      "235/235 [==============================] - 46s 197ms/step - loss: 0.6820 - accuracy: 0.5031 - val_loss: 0.6655 - val_accuracy: 0.4976\n",
      "Epoch 3/10\n",
      "235/235 [==============================] - 47s 202ms/step - loss: 0.4847 - accuracy: 0.7397 - val_loss: 0.3870 - val_accuracy: 0.8360\n",
      "Epoch 4/10\n",
      "235/235 [==============================] - 51s 217ms/step - loss: 0.3494 - accuracy: 0.8512 - val_loss: 0.3712 - val_accuracy: 0.8296\n",
      "Epoch 5/10\n",
      "235/235 [==============================] - 44s 188ms/step - loss: 0.3098 - accuracy: 0.8743 - val_loss: 0.3457 - val_accuracy: 0.8444\n",
      "Epoch 6/10\n",
      "235/235 [==============================] - 44s 188ms/step - loss: 0.2912 - accuracy: 0.8809 - val_loss: 0.3519 - val_accuracy: 0.8332\n",
      "Epoch 7/10\n",
      "235/235 [==============================] - 47s 200ms/step - loss: 0.2825 - accuracy: 0.8847 - val_loss: 0.3341 - val_accuracy: 0.8480\n",
      "Epoch 8/10\n",
      "235/235 [==============================] - 47s 199ms/step - loss: 0.2689 - accuracy: 0.8909 - val_loss: 0.3338 - val_accuracy: 0.8568\n",
      "Epoch 9/10\n",
      "235/235 [==============================] - 45s 190ms/step - loss: 0.2640 - accuracy: 0.8948 - val_loss: 0.3465 - val_accuracy: 0.8568\n",
      "Epoch 10/10\n",
      "235/235 [==============================] - 47s 200ms/step - loss: 0.2656 - accuracy: 0.8935 - val_loss: 0.3448 - val_accuracy: 0.8476\n"
     ]
    }
   ],
   "source": [
    "historyGRU = gru.fit(training_set['review'],training_set['sentiment'], epochs=10,\n",
    "                    validation_data=(test_set['review'],test_set['sentiment']), \n",
    "                    validation_steps=30)"
   ]
  },
  {
   "cell_type": "markdown",
   "id": "e169571c",
   "metadata": {},
   "source": [
    "The matplotlib library will be used to track our model's metrics"
   ]
  },
  {
   "cell_type": "code",
   "execution_count": 63,
   "id": "a2b768a2",
   "metadata": {},
   "outputs": [],
   "source": [
    "import matplotlib.pyplot as plt\n",
    "\n",
    "\n",
    "def plot_graphs(history, metric):\n",
    "  plt.plot(history.history[metric])\n",
    "  plt.plot(history.history['val_'+metric], '')\n",
    "  plt.xlabel(\"Epochs\")\n",
    "  plt.ylabel(metric)\n",
    "  plt.legend([metric, 'val_'+metric])"
   ]
  },
  {
   "cell_type": "code",
   "execution_count": 64,
   "id": "2a8a454a",
   "metadata": {},
   "outputs": [
    {
     "data": {
      "image/png": "[encoded data removed]",
      "text/plain": [
       "<Figure size 640x480 with 1 Axes>"
      ]
     },
     "metadata": {},
     "output_type": "display_data"
    }
   ],
   "source": [
    "plot_graphs(historyRNN, \"accuracy\")"
   ]
  },
  {
   "cell_type": "code",
   "execution_count": 65,
   "id": "e63dff5b",
   "metadata": {},
   "outputs": [
    {
     "data": {
      "image/png": "[encoded data removed]",
      "text/plain": [
       "<Figure size 640x480 with 1 Axes>"
      ]
     },
     "metadata": {},
     "output_type": "display_data"
    }
   ],
   "source": [
    "plot_graphs(historyLSTM, \"accuracy\")"
   ]
  },
  {
   "cell_type": "code",
   "execution_count": 67,
   "id": "64bf0d43",
   "metadata": {},
   "outputs": [
    {
     "data": {
      "image/png": "[encoded data removed]",
      "text/plain": [
       "<Figure size 640x480 with 1 Axes>"
      ]
     },
     "metadata": {},
     "output_type": "display_data"
    }
   ],
   "source": [
    "plot_graphs(historybiDir, \"accuracy\")"
   ]
  },
  {
   "cell_type": "code",
   "execution_count": 72,
   "id": "2be155c3",
   "metadata": {},
   "outputs": [
    {
     "data": {
      "image/png": "[encoded data removed]",
      "text/plain": [
       "<Figure size 640x480 with 1 Axes>"
      ]
     },
     "metadata": {},
     "output_type": "display_data"
    }
   ],
   "source": [
    "plot_graphs(historyGRU, \"accuracy\")"
   ]
  },
  {
   "cell_type": "code",
   "execution_count": null,
   "id": "50155e9e",
   "metadata": {},
   "outputs": [],
   "source": []
  }
 ],
 "metadata": {
  "kernelspec": {
   "display_name": "tensforflow_base",
   "language": "python",
   "name": "tensforflow_base"
  },
  "language_info": {
   "codemirror_mode": {
    "name": "ipython",
    "version": 3
   },
   "file_extension": ".py",
   "mimetype": "text/x-python",
   "name": "python",
   "nbconvert_exporter": "python",
   "pygments_lexer": "ipython3",
   "version": "3.10.11"
  }
 },
 "nbformat": 4,
 "nbformat_minor": 5
}
