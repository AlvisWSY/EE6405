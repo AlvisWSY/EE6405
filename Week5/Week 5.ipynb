{
 "cells": [
  {
   "cell_type": "markdown",
   "id": "2ab947f4",
   "metadata": {},
   "source": [
    "# Importing Libraries"
   ]
  },
  {
   "cell_type": "code",
   "execution_count": 1,
   "id": "eeea0c7c",
   "metadata": {},
   "outputs": [],
   "source": [
    "from sklearn.feature_extraction.text import TfidfVectorizer,CountVectorizer\n",
    "import pandas as pd\n",
    "import re\n",
    "from keras.preprocessing.text import text_to_word_sequence\n",
    "import nltk\n",
    "from nltk.corpus import stopwords \n",
    "from nltk.tokenize import word_tokenize \n",
    "from sklearn.feature_extraction.text import TfidfVectorizer\n",
    "from sklearn.model_selection import cross_validate\n",
    "from sklearn.svm import SVC\n",
    "from sklearn.metrics import accuracy_score\n",
    "import numpy as np"
   ]
  },
  {
   "cell_type": "markdown",
   "id": "f9381c36",
   "metadata": {},
   "source": [
    "## Preprocessing"
   ]
  },
  {
   "cell_type": "code",
   "execution_count": 3,
   "id": "9fb78c94",
   "metadata": {},
   "outputs": [
    {
     "data": {
      "text/plain": [
       "(10000, 2)"
      ]
     },
     "execution_count": 3,
     "metadata": {},
     "output_type": "execute_result"
    }
   ],
   "source": [
    "imdb_df = pd.read_csv(r\"C:\\Users\\liuru\\Desktop\\EE6405\\Data\\IMDB\\IMDB Dataset.csv\")\n",
    "df_positive = imdb_df[imdb_df['sentiment']=='positive'][:5000]\n",
    "df_negative = imdb_df[imdb_df['sentiment']=='negative'][:5000]\n",
    "imdb = pd.concat([df_positive,df_negative ])\n",
    "imdb.shape"
   ]
  },
  {
   "cell_type": "code",
   "execution_count": 4,
   "id": "3a2ee366",
   "metadata": {},
   "outputs": [],
   "source": [
    "# remove \"(<.*?>)\" markup\n",
    "imdb['review'] = imdb['review'].apply(lambda x: re.sub('(<.*?>)', ' ', x))\n",
    "# remove punctuation marks \n",
    "imdb['review'] = imdb['review'].apply(lambda x: re.sub('[,\\.!?:()\"]', '', x))\n",
    "# remove whitespace\n",
    "imdb['review'] = imdb['review'].apply(lambda x: x.strip())\n",
    "# remove all strings that contain a non-letter\n",
    "imdb['review'] = imdb['review'].apply(lambda x: re.sub('[^a-zA-Z\"]',' ',x))\n",
    "# convert to lower\n",
    "imdb['review'] = imdb['review'].apply(lambda x: x.lower())"
   ]
  },
  {
   "cell_type": "code",
   "execution_count": 5,
   "id": "7978d12a",
   "metadata": {},
   "outputs": [
    {
     "name": "stderr",
     "output_type": "stream",
     "text": [
      "[nltk_data] Downloading package wordnet to\n",
      "[nltk_data]     C:\\Users\\liuru\\AppData\\Roaming\\nltk_data...\n",
      "[nltk_data]   Package wordnet is already up-to-date!\n",
      "[nltk_data] Downloading package averaged_perceptron_tagger to\n",
      "[nltk_data]     C:\\Users\\liuru\\AppData\\Roaming\\nltk_data...\n",
      "[nltk_data]   Package averaged_perceptron_tagger is already up-to-\n",
      "[nltk_data]       date!\n"
     ]
    }
   ],
   "source": [
    "nltk.download('wordnet')\n",
    "from nltk.stem import WordNetLemmatizer\n",
    "from nltk.tokenize import word_tokenize\n",
    "nltk.download('averaged_perceptron_tagger')\n",
    "lemmatizer= WordNetLemmatizer()\n",
    "from nltk.corpus import wordnet"
   ]
  },
  {
   "cell_type": "code",
   "execution_count": 6,
   "id": "09ab05e8",
   "metadata": {},
   "outputs": [],
   "source": [
    "def pos_tagger(nltk_tag):\n",
    "    if nltk_tag.startswith('J'):\n",
    "        return wordnet.ADJ\n",
    "    elif nltk_tag.startswith('V'):\n",
    "        return wordnet.VERB\n",
    "    elif nltk_tag.startswith('N'):\n",
    "        return wordnet.NOUN\n",
    "    elif nltk_tag.startswith('R'):\n",
    "        return wordnet.ADV\n",
    "    else:         \n",
    "        return None\n",
    "def tagged_lemma(string):\n",
    "    \n",
    "    pos_tagged = nltk.pos_tag(nltk.word_tokenize(string))\n",
    "\n",
    "    wordnet_tagged = list(map(lambda x: (x[0], pos_tagger(x[1])), pos_tagged))\n",
    "\n",
    "    lemmatized_sentence = []\n",
    "\n",
    "    for word, tag in wordnet_tagged:\n",
    "        if tag is None:\n",
    "            lemmatized_sentence.append(word)\n",
    "        else:       \n",
    "            lemmatized_sentence.append(lemmatizer.lemmatize(word, tag))\n",
    "    lemmatized_sentence = \" \".join(lemmatized_sentence)\n",
    "    return lemmatized_sentence"
   ]
  },
  {
   "cell_type": "code",
   "execution_count": 7,
   "id": "d5bc2f31",
   "metadata": {},
   "outputs": [
    {
     "name": "stdout",
     "output_type": "stream",
     "text": [
      "basically there s a family where a little boy jake think there s a zombie in his closet his parent be fight all the time this movie be slow than a soap opera and suddenly jake decides to become rambo and kill the zombie ok first of all when you re go to make a film you must decide if its a thriller or a drama as a drama the movie be watchable parent be divorce argue like in real life and then we have jake with his closet which totally ruin all the film i expect to see a boogeyman similar movie and instead i watch a drama with some meaningless thriller spot out of just for the well play parent descent dialog as for the shot with jake just ignore them\n"
     ]
    }
   ],
   "source": [
    "imdb['review']=imdb['review'].apply(tagged_lemma)\n",
    "print(imdb['review'][3])"
   ]
  },
  {
   "cell_type": "code",
   "execution_count": 8,
   "id": "be4427dc",
   "metadata": {},
   "outputs": [
    {
     "data": {
      "text/plain": [
       "'basically family little boy jake think zombie closet parent fight time movie slow soap opera suddenly jake decides become rambo kill zombie ok first go make film must decide thriller drama drama movie watchable parent divorce argue like real life jake closet totally ruin film expect see boogeyman similar movie instead watch drama meaningless thriller spot well play parent descent dialog shot jake ignore'"
      ]
     },
     "execution_count": 8,
     "metadata": {},
     "output_type": "execute_result"
    }
   ],
   "source": [
    "words = imdb['review'].apply(lambda x: text_to_word_sequence(x))\n",
    "stop_words = set(stopwords.words('english'))\n",
    "filtered_words = words.apply(lambda x: [w for w in x if not w in stop_words])\n",
    "imdb['review'] = filtered_words.apply(lambda x: \" \".join(x))\n",
    "imdb['review'][3]"
   ]
  },
  {
   "cell_type": "code",
   "execution_count": 9,
   "id": "3ec1d763",
   "metadata": {},
   "outputs": [],
   "source": [
    "imdb.sentiment = imdb.sentiment.apply(lambda x: 1 if x=='positive' else 0)"
   ]
  },
  {
   "cell_type": "code",
   "execution_count": 10,
   "id": "b3d35a99",
   "metadata": {},
   "outputs": [],
   "source": [
    "from sklearn.model_selection import train_test_split\n",
    "train_review, test_review, train_sent, test_sent = train_test_split(imdb['review'], imdb['sentiment'], test_size=0.25, random_state=42)"
   ]
  },
  {
   "cell_type": "code",
   "execution_count": 11,
   "id": "0adf653f",
   "metadata": {},
   "outputs": [
    {
     "name": "stdout",
     "output_type": "stream",
     "text": [
      "Tfidf_train: (7500, 42076)\n",
      "Tfidf_test: (2500, 42076)\n"
     ]
    }
   ],
   "source": [
    "#Tfidf vectorizer\n",
    "tv=TfidfVectorizer(stop_words='english')\n",
    "#transformed train reviews\n",
    "train_review_tfidf=np.asarray(tv.fit_transform(train_review).todense())\n",
    "#transformed test reviews\n",
    "test_review_tfidf=np.asarray(tv.transform(test_review).todense())\n",
    "print('Tfidf_train:',train_review_tfidf.shape)\n",
    "print('Tfidf_test:',test_review_tfidf.shape)"
   ]
  },
  {
   "cell_type": "code",
   "execution_count": 12,
   "id": "26f21375",
   "metadata": {},
   "outputs": [
    {
     "name": "stdout",
     "output_type": "stream",
     "text": [
      "(42076,)\n"
     ]
    }
   ],
   "source": [
    "print(train_review_tfidf[3].shape)"
   ]
  },
  {
   "cell_type": "markdown",
   "id": "febc05fd",
   "metadata": {},
   "source": [
    "## SVM Model"
   ]
  },
  {
   "cell_type": "code",
   "execution_count": 15,
   "id": "7a7ed846",
   "metadata": {},
   "outputs": [],
   "source": [
    "from sklearn.metrics import accuracy_score, precision_score, recall_score, confusion_matrix\n",
    "import seaborn as sns\n",
    "#generates a confusion matrix between hand labelled data and model predictions\n",
    "def getConfMatrix(pred_data, actual):\n",
    "    conf_mat = confusion_matrix(actual, pred_data, labels=[0,1])\n",
    "    accuracy = accuracy_score(actual, pred_data)\n",
    "    precision = precision_score(actual, pred_data, average='micro')\n",
    "    recall = recall_score(actual, pred_data, average='micro')\n",
    "    sns.heatmap(conf_mat, annot = True, fmt=\".0f\", annot_kws={\"size\": 18})\n",
    "    print('Accuracy: '+ str(accuracy))\n",
    "    print('Precision: '+ str(precision))\n",
    "    print('Recall: '+ str(recall))"
   ]
  },
  {
   "cell_type": "code",
   "execution_count": 16,
   "id": "176ee810",
   "metadata": {},
   "outputs": [],
   "source": [
    "from sklearn import svm\n",
    "\n",
    "#Create a svm Classifier\n",
    "clf = svm.SVC(kernel='rbf') # RBF kernel\n",
    "\n",
    "#Train the model using the training sets\n",
    "clf.fit(train_review_tfidf, train_sent)\n",
    "\n",
    "#Predict the response for test dataset\n",
    "y_pred = clf.predict(test_review_tfidf)"
   ]
  },
  {
   "cell_type": "markdown",
   "id": "7a8060ba",
   "metadata": {},
   "source": [
    "## Confusion Matrix"
   ]
  },
  {
   "cell_type": "code",
   "execution_count": 17,
   "id": "b3ab351f",
   "metadata": {},
   "outputs": [
    {
     "name": "stdout",
     "output_type": "stream",
     "text": [
      "Accuracy: 0.872\n",
      "Precision: 0.872\n",
      "Recall: 0.872\n"
     ]
    },
    {
     "data": {
      "image/png": "[encoded data removed]",
      "text/plain": [
       "<Figure size 640x480 with 2 Axes>"
      ]
     },
     "metadata": {},
     "output_type": "display_data"
    }
   ],
   "source": [
    "getConfMatrix(y_pred,test_sent)"
   ]
  },
  {
   "cell_type": "code",
   "execution_count": 19,
   "id": "fa815d41",
   "metadata": {},
   "outputs": [
    {
     "name": "stdout",
     "output_type": "stream",
     "text": [
      "F1 Micro: 0.872\n",
      "F1 Macro: 0.8718995692623017\n"
     ]
    }
   ],
   "source": [
    "from sklearn.metrics import f1_score\n",
    "micro = f1_score(test_sent, y_pred, average='micro') \n",
    "macro = f1_score(test_sent,y_pred, average='macro')\n",
    "print('F1 Micro: '+ str(micro))\n",
    "print('F1 Macro: '+ str(macro))"
   ]
  },
  {
   "cell_type": "markdown",
   "id": "af73fb41",
   "metadata": {},
   "source": [
    "## AUC-ROC"
   ]
  },
  {
   "cell_type": "markdown",
   "id": "120f94e6",
   "metadata": {},
   "source": [
    "A logistic regression model is used here as AUC-ROC requires a probabilistic model."
   ]
  },
  {
   "cell_type": "code",
   "execution_count": 22,
   "id": "bb8b0e71",
   "metadata": {},
   "outputs": [
    {
     "data": {
      "text/html": [
       "<style>#sk-container-id-2 {color: black;background-color: white;}#sk-container-id-2 pre{padding: 0;}#sk-container-id-2 div.sk-toggleable {background-color: white;}#sk-container-id-2 label.sk-toggleable__label {cursor: pointer;display: block;width: 100%;margin-bottom: 0;padding: 0.3em;box-sizing: border-box;text-align: center;}#sk-container-id-2 label.sk-toggleable__label-arrow:before {content: \"▸\";float: left;margin-right: 0.25em;color: #696969;}#sk-container-id-2 label.sk-toggleable__label-arrow:hover:before {color: black;}#sk-container-id-2 div.sk-estimator:hover label.sk-toggleable__label-arrow:before {color: black;}#sk-container-id-2 div.sk-toggleable__content {max-height: 0;max-width: 0;overflow: hidden;text-align: left;background-color: #f0f8ff;}#sk-container-id-2 div.sk-toggleable__content pre {margin: 0.2em;color: black;border-radius: 0.25em;background-color: #f0f8ff;}#sk-container-id-2 input.sk-toggleable__control:checked~div.sk-toggleable__content {max-height: 200px;max-width: 100%;overflow: auto;}#sk-container-id-2 input.sk-toggleable__control:checked~label.sk-toggleable__label-arrow:before {content: \"▾\";}#sk-container-id-2 div.sk-estimator input.sk-toggleable__control:checked~label.sk-toggleable__label {background-color: #d4ebff;}#sk-container-id-2 div.sk-label input.sk-toggleable__control:checked~label.sk-toggleable__label {background-color: #d4ebff;}#sk-container-id-2 input.sk-hidden--visually {border: 0;clip: rect(1px 1px 1px 1px);clip: rect(1px, 1px, 1px, 1px);height: 1px;margin: -1px;overflow: hidden;padding: 0;position: absolute;width: 1px;}#sk-container-id-2 div.sk-estimator {font-family: monospace;background-color: #f0f8ff;border: 1px dotted black;border-radius: 0.25em;box-sizing: border-box;margin-bottom: 0.5em;}#sk-container-id-2 div.sk-estimator:hover {background-color: #d4ebff;}#sk-container-id-2 div.sk-parallel-item::after {content: \"\";width: 100%;border-bottom: 1px solid gray;flex-grow: 1;}#sk-container-id-2 div.sk-label:hover label.sk-toggleable__label {background-color: #d4ebff;}#sk-container-id-2 div.sk-serial::before {content: \"\";position: absolute;border-left: 1px solid gray;box-sizing: border-box;top: 0;bottom: 0;left: 50%;z-index: 0;}#sk-container-id-2 div.sk-serial {display: flex;flex-direction: column;align-items: center;background-color: white;padding-right: 0.2em;padding-left: 0.2em;position: relative;}#sk-container-id-2 div.sk-item {position: relative;z-index: 1;}#sk-container-id-2 div.sk-parallel {display: flex;align-items: stretch;justify-content: center;background-color: white;position: relative;}#sk-container-id-2 div.sk-item::before, #sk-container-id-2 div.sk-parallel-item::before {content: \"\";position: absolute;border-left: 1px solid gray;box-sizing: border-box;top: 0;bottom: 0;left: 50%;z-index: -1;}#sk-container-id-2 div.sk-parallel-item {display: flex;flex-direction: column;z-index: 1;position: relative;background-color: white;}#sk-container-id-2 div.sk-parallel-item:first-child::after {align-self: flex-end;width: 50%;}#sk-container-id-2 div.sk-parallel-item:last-child::after {align-self: flex-start;width: 50%;}#sk-container-id-2 div.sk-parallel-item:only-child::after {width: 0;}#sk-container-id-2 div.sk-dashed-wrapped {border: 1px dashed gray;margin: 0 0.4em 0.5em 0.4em;box-sizing: border-box;padding-bottom: 0.4em;background-color: white;}#sk-container-id-2 div.sk-label label {font-family: monospace;font-weight: bold;display: inline-block;line-height: 1.2em;}#sk-container-id-2 div.sk-label-container {text-align: center;}#sk-container-id-2 div.sk-container {/* jupyter's `normalize.less` sets `[hidden] { display: none; }` but bootstrap.min.css set `[hidden] { display: none !important; }` so we also need the `!important` here to be able to override the default hidden behavior on the sphinx rendered scikit-learn.org. See: https://github.com/scikit-learn/scikit-learn/issues/21755 */display: inline-block !important;position: relative;}#sk-container-id-2 div.sk-text-repr-fallback {display: none;}</style><div id=\"sk-container-id-2\" class=\"sk-top-container\"><div class=\"sk-text-repr-fallback\"><pre>LogisticRegression()</pre><b>In a Jupyter environment, please rerun this cell to show the HTML representation or trust the notebook. <br />On GitHub, the HTML representation is unable to render, please try loading this page with nbviewer.org.</b></div><div class=\"sk-container\" hidden><div class=\"sk-item\"><div class=\"sk-estimator sk-toggleable\"><input class=\"sk-toggleable__control sk-hidden--visually\" id=\"sk-estimator-id-2\" type=\"checkbox\" checked><label for=\"sk-estimator-id-2\" class=\"sk-toggleable__label sk-toggleable__label-arrow\">LogisticRegression</label><div class=\"sk-toggleable__content\"><pre>LogisticRegression()</pre></div></div></div></div></div>"
      ],
      "text/plain": [
       "LogisticRegression()"
      ]
     },
     "execution_count": 22,
     "metadata": {},
     "output_type": "execute_result"
    }
   ],
   "source": [
    "from sklearn.linear_model import LogisticRegression\n",
    "from sklearn import metrics\n",
    "import matplotlib.pyplot as plt\n",
    "#instantiate the model\n",
    "log_regression = LogisticRegression()\n",
    "\n",
    "#fit the model using the training data\n",
    "log_regression.fit(train_review_tfidf, train_sent)"
   ]
  },
  {
   "cell_type": "code",
   "execution_count": 25,
   "id": "3cb74969",
   "metadata": {},
   "outputs": [
    {
     "data": {
      "image/png": "[encoded data removed]",
      "text/plain": [
       "<Figure size 640x480 with 1 Axes>"
      ]
     },
     "metadata": {},
     "output_type": "display_data"
    }
   ],
   "source": [
    "#define metrics\n",
    "y_pred_proba = log_regression.predict_proba(test_review_tfidf)[::,1]\n",
    "fpr, tpr, _ = metrics.roc_curve(test_sent,  y_pred_proba)\n",
    "auc = metrics.roc_auc_score(test_sent, y_pred_proba)\n",
    "\n",
    "#create ROC curve\n",
    "plt.plot(fpr,tpr,label=\"AUC=\"+str(auc))\n",
    "plt.ylabel('True Positive Rate')\n",
    "plt.xlabel('False Positive Rate')\n",
    "plt.legend(loc=4)\n",
    "plt.show()"
   ]
  },
  {
   "cell_type": "markdown",
   "id": "88d5fe3e",
   "metadata": {},
   "source": [
    "## BLEU Score"
   ]
  },
  {
   "cell_type": "code",
   "execution_count": 25,
   "id": "7f23c5e0",
   "metadata": {},
   "outputs": [
    {
     "name": "stdout",
     "output_type": "stream",
     "text": [
      "0.4671379777282001\n"
     ]
    }
   ],
   "source": [
    "import nltk\n",
    "from nltk import word_tokenize\n",
    "from nltk.translate.bleu_score import SmoothingFunction\n",
    "ref = 'The guard arrived late because it was raining.'\n",
    "cand = 'The guard arrived late because of the rain.'\n",
    "smoothie = SmoothingFunction().method1\n",
    "reference = word_tokenize(ref)\n",
    "candidate = word_tokenize(cand)\n",
    "weights = (0.25, 0.25, 0.25, 0.25)\n",
    "BLEUscore = nltk.translate.bleu_score.sentence_bleu([reference], candidate, weights, smoothing_function=smoothie)\n",
    "print(BLEUscore)"
   ]
  },
  {
   "cell_type": "markdown",
   "id": "3ce41e66",
   "metadata": {},
   "source": [
    "## ROUGE"
   ]
  },
  {
   "cell_type": "code",
   "execution_count": 1,
   "id": "97ae4be8",
   "metadata": {},
   "outputs": [
    {
     "name": "stderr",
     "output_type": "stream",
     "text": [
      "C:\\Users\\liuru\\anaconda3\\envs\\tensorflow_base\\lib\\site-packages\\tqdm\\auto.py:21: TqdmWarning: IProgress not found. Please update jupyter and ipywidgets. See https://ipywidgets.readthedocs.io/en/stable/user_install.html\n",
      "  from .autonotebook import tqdm as notebook_tqdm\n",
      "Downloading builder script: 100%|█████████████████████████████████████████████████████████| 6.27k/6.27k [00:00<?, ?B/s]\n"
     ]
    },
    {
     "name": "stdout",
     "output_type": "stream",
     "text": [
      "{'rouge1': 0.6659340659340659, 'rouge2': 0.45454545454545453, 'rougeL': 0.6146520146520146, 'rougeLsum': 0.6146520146520146}\n"
     ]
    }
   ],
   "source": [
    "import evaluate\n",
    "rouge = evaluate.load('rouge')\n",
    "predictions = [\"Transformers Transformers are fast plus efficient\", \n",
    "               \"Good Morning\", \"I am waiting for new Transformers\"]\n",
    "references = [\n",
    "              [\"HuggingFace Transformers are fast efficient plus awesome\", \n",
    "               \"Transformers are awesome because they are fast to execute\"], \n",
    "              [\"Good Morning Transformers\", \"Morning Transformers\"], \n",
    "              [\"People are eagerly waiting for new Transformer models\", \n",
    "               \"People are very excited about new Transformers\"]\n",
    "\n",
    "]\n",
    "results = rouge.compute(predictions=predictions, references=references)\n",
    "print(results)"
   ]
  },
  {
   "cell_type": "markdown",
   "id": "c4c250e3",
   "metadata": {},
   "source": [
    "## METEOR"
   ]
  },
  {
   "cell_type": "code",
   "execution_count": 3,
   "id": "f193f355",
   "metadata": {},
   "outputs": [
    {
     "name": "stdout",
     "output_type": "stream",
     "text": [
      "The METEOR score is: 0.9654\n"
     ]
    }
   ],
   "source": [
    "from nltk.translate import meteor\n",
    "from nltk import word_tokenize\n",
    "score=round(meteor([word_tokenize('The cat sat on the mat')],\n",
    "                   word_tokenize('The cat was sat on the mat')), 4)\n",
    "print('The METEOR score is: '+str(score))"
   ]
  },
  {
   "cell_type": "code",
   "execution_count": 1,
   "id": "8812aeb9",
   "metadata": {},
   "outputs": [
    {
     "name": "stdout",
     "output_type": "stream",
     "text": [
      "Embedding for 'word': [-9.5782708e-03  8.9433035e-03  4.1655651e-03  9.2360200e-03\n",
      "  6.6434164e-03  2.9238823e-03  9.8045552e-03 -4.4228774e-03\n",
      " -6.8031684e-03  4.2263791e-03  3.7309569e-03 -5.6647998e-03\n",
      "  9.7051831e-03 -3.5571249e-03  9.5494138e-03  8.3399686e-04\n",
      " -6.3375360e-03 -1.9765303e-03 -7.3783435e-03 -2.9803123e-03\n",
      "  1.0425968e-03  9.4828764e-03  9.3571255e-03 -6.5945145e-03\n",
      "  3.4750504e-03  2.2753996e-03 -2.4888995e-03 -9.2287343e-03\n",
      "  1.0264782e-03 -8.1667695e-03  6.3202251e-03 -5.8006351e-03\n",
      "  5.5357707e-03  9.8335072e-03 -1.6020649e-04  4.5292759e-03\n",
      " -1.8079536e-03  7.3599042e-03  3.9389166e-03 -9.0105701e-03\n",
      " -2.3983277e-03  3.6285119e-03 -9.9961828e-05 -1.2015507e-03\n",
      " -1.0550468e-03 -1.6715144e-03  6.0320512e-04  4.1645542e-03\n",
      " -4.2527826e-03 -3.8329726e-03 -5.2653751e-05  2.6851249e-04\n",
      " -1.7041666e-04 -4.7857561e-03  4.3126042e-03 -2.1723476e-03\n",
      "  2.1040821e-03  6.6577346e-04  5.9687104e-03 -6.8427366e-03\n",
      " -6.8160188e-03 -4.4750450e-03  9.4369482e-03 -1.5926627e-03\n",
      " -9.4300918e-03 -5.4425694e-04 -4.4496474e-03  6.0008741e-03\n",
      " -9.5837293e-03  2.8578769e-03 -9.2512975e-03  1.2507273e-03\n",
      "  5.9983991e-03  7.3978822e-03 -7.6199183e-03 -6.0532107e-03\n",
      " -6.8376604e-03 -7.9174070e-03 -9.5002521e-03 -2.1253186e-03\n",
      " -8.3641807e-04 -7.2558355e-03  6.7871362e-03  1.1204430e-03\n",
      "  5.8272551e-03  1.4734893e-03  7.9107360e-04 -7.3686223e-03\n",
      " -2.1775942e-03  4.3218113e-03 -5.0858771e-03  1.1309833e-03\n",
      "  2.8836925e-03 -1.5359134e-03  9.9341124e-03  8.3504440e-03\n",
      "  2.4163835e-03  7.1164975e-03  5.8903527e-03 -5.5806041e-03]\n",
      "Similarity between 'word' and 'embedding': -0.06901167333126068\n"
     ]
    }
   ],
   "source": [
    "from gensim.models import Word2Vec\n",
    "from nltk.tokenize import word_tokenize\n",
    "\n",
    "# Sample sentences for training Word2Vec\n",
    "sentences = [\n",
    "    \"Word2Vec is a technique for word embedding.\",\n",
    "    \"Embedding words in vector space is powerful for NLP.\",\n",
    "    \"Gensim provides an easy way to work with Word2Vec.\",\n",
    "]\n",
    "\n",
    "# Tokenize the sentences into words\n",
    "tokenized_sentences = [word_tokenize(sentence.lower()) for sentence in sentences]\n",
    "\n",
    "# Train a Word2Vec model\n",
    "model = Word2Vec(tokenized_sentences, vector_size=100, window=5, min_count=1, sg=0)  \n",
    "# Adjust parameters as needed\n",
    "\n",
    "# Save the trained model for future use\n",
    "model.save(\"word2vec.model\")\n",
    "\n",
    "# Load the model (if needed)\n",
    "# model = Word2Vec.load(\"word2vec.model\")\n",
    "\n",
    "# Get the word embeddings\n",
    "word = \"word\"\n",
    "if word in model.wv:\n",
    "    embedding = model.wv[word]\n",
    "    print(f\"Embedding for '{word}': {embedding}\")\n",
    "else:\n",
    "    print(f\"'{word}' is not in the vocabulary.\")\n",
    "\n",
    "# Similarity between words\n",
    "similarity = model.wv.similarity(\"word\", \"embedding\")\n",
    "print(f\"Similarity between 'word' and 'embedding': {similarity}\")"
   ]
  },
  {
   "cell_type": "markdown",
   "id": "7cc09509",
   "metadata": {},
   "source": [
    "## GloVe"
   ]
  },
  {
   "cell_type": "code",
   "execution_count": 5,
   "id": "e2a9c07d",
   "metadata": {},
   "outputs": [
    {
     "name": "stdout",
     "output_type": "stream",
     "text": [
      "Embedding for 'nero':\n",
      "[ 0.12703   -1.2517    -0.30333   -0.24548    0.068448   1.1062\n",
      "  0.30107   -0.33641    0.067003  -0.71713   -0.045462   0.38737\n",
      " -0.53082    0.19166   -0.13454   -0.69842    0.43061   -0.1036\n",
      "  0.33654    0.74012    0.026213  -0.52291   -0.3713     1.0698\n",
      "  0.61742    0.27974    0.66584   -0.11241    0.0066852  0.1599\n",
      "  0.16144    0.29823   -0.079172   0.1576     0.20478    1.1741\n",
      "  0.24823   -0.60665    0.83795    0.44143   -0.31444    0.0040575\n",
      "  0.19608    0.36953    0.16881   -0.081036  -0.23726   -0.82465\n",
      " -0.025315   0.44143   -0.18847    0.2841     0.034934   0.41033\n",
      " -0.73196   -0.41349   -0.72422    0.31519   -1.13      -0.2272\n",
      "  0.080723   0.50456    0.014441   0.14606   -0.15919   -0.54273\n",
      " -0.43092   -0.37986   -0.35882   -0.037606   0.51308   -0.2918\n",
      "  0.46491    0.41077   -0.20835   -1.2477    -0.77411    0.053342\n",
      " -0.57954    0.58317    0.56071   -0.16284   -0.3974     0.77043\n",
      " -0.58452    0.7157    -0.89662   -0.60718   -0.26547    0.11487\n",
      "  0.48213   -0.66232    0.23707   -0.38942    0.14209   -0.90944\n",
      " -0.061628  -0.58932   -0.76396    0.10286  ]\n",
      "\n",
      "Words most similar to 'nero':\n",
      "claudius 0.7039013504981995\n",
      "caligula 0.6931164860725403\n",
      "tiberius 0.624136209487915\n",
      "caesar 0.6094770431518555\n",
      "domitian 0.5942543745040894\n",
      "vespasian 0.5886495113372803\n",
      "germanicus 0.5798532962799072\n",
      "drusus 0.5789514780044556\n",
      "cleopatra 0.5602390766143799\n",
      "galba 0.5509929060935974\n"
     ]
    }
   ],
   "source": [
    "import gensim.downloader as api\n",
    "\n",
    "# Load the pre-trained GloVe model (you may need to download it first)\n",
    "glove_model = api.load(\"glove-wiki-gigaword-100\")\n",
    "\n",
    "# Find the embedding for a specific word\n",
    "word = \"nero\"\n",
    "try:\n",
    "    embedding = glove_model[word]\n",
    "    print(f\"Embedding for '{word}':\")\n",
    "    print(embedding)\n",
    "except KeyError:\n",
    "    print(f\"'{word}' is not in the vocabulary.\")\n",
    "\n",
    "# Find the most similar words to a given word\n",
    "similar_words = glove_model.most_similar(word)\n",
    "print(f\"\\nWords most similar to '{word}':\")\n",
    "for similar_word, score in similar_words:\n",
    "    print(similar_word, score)"
   ]
  },
  {
   "cell_type": "code",
   "execution_count": null,
   "id": "bf81044e",
   "metadata": {},
   "outputs": [],
   "source": []
  }
 ],
 "metadata": {
  "kernelspec": {
   "display_name": "tensforflow_base",
   "language": "python",
   "name": "tensforflow_base"
  },
  "language_info": {
   "codemirror_mode": {
    "name": "ipython",
    "version": 3
   },
   "file_extension": ".py",
   "mimetype": "text/x-python",
   "name": "python",
   "nbconvert_exporter": "python",
   "pygments_lexer": "ipython3",
   "version": "3.10.11"
  }
 },
 "nbformat": 4,
 "nbformat_minor": 5
}
